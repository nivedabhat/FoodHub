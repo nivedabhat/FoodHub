{
 "cells": [
  {
   "cell_type": "markdown",
   "id": "157a74bf",
   "metadata": {
    "id": "Gc8x8QimJY_H",
    "papermill": {
     "duration": 0.034829,
     "end_time": "2024-01-25T19:39:04.709000",
     "exception": false,
     "start_time": "2024-01-25T19:39:04.674171",
     "status": "completed"
    },
    "tags": []
   },
   "source": [
    "# Project Python Foundations: FoodHub Data Analysis\n",
    "\n",
    "**Marks: 60**"
   ]
  },
  {
   "cell_type": "markdown",
   "id": "2d0ee213",
   "metadata": {
    "id": "NqikjkWwJY_L",
    "papermill": {
     "duration": 0.033379,
     "end_time": "2024-01-25T19:39:04.778335",
     "exception": false,
     "start_time": "2024-01-25T19:39:04.744956",
     "status": "completed"
    },
    "tags": []
   },
   "source": [
    "### Context\n",
    "\n",
    "The number of restaurants in New York is increasing day by day. Lots of students and busy professionals rely on those restaurants due to their hectic lifestyles. Online food delivery service is a great option for them. It provides them with good food from their favorite restaurants. A food aggregator company FoodHub offers access to multiple restaurants through a single smartphone app.\n",
    "\n",
    "The app allows the restaurants to receive a direct online order from a customer. The app assigns a delivery person from the company to pick up the order after it is confirmed by the restaurant. The delivery person then uses the map to reach the restaurant and waits for the food package. Once the food package is handed over to the delivery person, he/she confirms the pick-up in the app and travels to the customer's location to deliver the food. The delivery person confirms the drop-off in the app after delivering the food package to the customer. The customer can rate the order in the app. The food aggregator earns money by collecting a fixed margin of the delivery order from the restaurants.\n",
    "\n",
    "### Objective\n",
    "\n",
    "The food aggregator company has stored the data of the different orders made by the registered customers in their online portal. They want to analyze the data to get a fair idea about the demand of different restaurants which will help them in enhancing their customer experience. Suppose you are hired as a Data Scientist in this company and the Data Science team has shared some of the key questions that need to be answered. Perform the data analysis to find answers to these questions that will help the company to improve the business.\n",
    "\n",
    "### Data Description\n",
    "\n",
    "The data contains the different data related to a food order. The detailed data dictionary is given below.\n",
    "\n",
    "### Data Dictionary\n",
    "\n",
    "* order_id: Unique ID of the order\n",
    "* customer_id: ID of the customer who ordered the food\n",
    "* restaurant_name: Name of the restaurant\n",
    "* cuisine_type: Cuisine ordered by the customer\n",
    "* cost: Cost of the order\n",
    "* day_of_the_week: Indicates whether the order is placed on a weekday or weekend (The weekday is from Monday to Friday and the weekend is Saturday and Sunday)\n",
    "* rating: Rating given by the customer out of 5\n",
    "* food_preparation_time: Time (in minutes) taken by the restaurant to prepare the food. This is calculated by taking the difference between the timestamps of the restaurant's order confirmation and the delivery person's pick-up confirmation.\n",
    "* delivery_time: Time (in minutes) taken by the delivery person to deliver the food package. This is calculated by taking the difference between the timestamps of the delivery person's pick-up confirmation and drop-off information"
   ]
  },
  {
   "cell_type": "markdown",
   "id": "c8d10f61",
   "metadata": {
    "id": "cEtNUxNAJY_M",
    "papermill": {
     "duration": 0.033604,
     "end_time": "2024-01-25T19:39:04.845768",
     "exception": false,
     "start_time": "2024-01-25T19:39:04.812164",
     "status": "completed"
    },
    "tags": []
   },
   "source": [
    "### Let us start by importing the required libraries"
   ]
  },
  {
   "cell_type": "code",
   "execution_count": 1,
   "id": "70303004",
   "metadata": {
    "execution": {
     "iopub.execute_input": "2024-01-25T19:39:04.916533Z",
     "iopub.status.busy": "2024-01-25T19:39:04.915725Z",
     "iopub.status.idle": "2024-01-25T19:39:07.104905Z",
     "shell.execute_reply": "2024-01-25T19:39:07.103450Z"
    },
    "id": "u6PlpJAPJY_N",
    "papermill": {
     "duration": 2.228499,
     "end_time": "2024-01-25T19:39:07.108323",
     "exception": false,
     "start_time": "2024-01-25T19:39:04.879824",
     "status": "completed"
    },
    "tags": []
   },
   "outputs": [],
   "source": [
    "# import libraries for data manipulation\n",
    "import numpy as np\n",
    "import pandas as pd\n",
    "\n",
    "# import libraries for data visualization\n",
    "import matplotlib.pyplot as plt\n",
    "import seaborn as sns"
   ]
  },
  {
   "cell_type": "markdown",
   "id": "5615f2f5",
   "metadata": {
    "id": "AdracY0HJY_O",
    "papermill": {
     "duration": 0.039643,
     "end_time": "2024-01-25T19:39:07.283290",
     "exception": false,
     "start_time": "2024-01-25T19:39:07.243647",
     "status": "completed"
    },
    "tags": []
   },
   "source": [
    "### Understanding the structure of the data"
   ]
  },
  {
   "cell_type": "code",
   "execution_count": 2,
   "id": "ea9bae3d",
   "metadata": {
    "execution": {
     "iopub.execute_input": "2024-01-25T19:39:07.358129Z",
     "iopub.status.busy": "2024-01-25T19:39:07.356568Z",
     "iopub.status.idle": "2024-01-25T19:39:07.362973Z",
     "shell.execute_reply": "2024-01-25T19:39:07.361609Z"
    },
    "id": "WBh2ZGB9kFhU",
    "outputId": "3dda08dc-db0e-46b3-d908-d699a17a67f3",
    "papermill": {
     "duration": 0.046495,
     "end_time": "2024-01-25T19:39:07.366125",
     "exception": false,
     "start_time": "2024-01-25T19:39:07.319630",
     "status": "completed"
    },
    "tags": []
   },
   "outputs": [],
   "source": [
    "# uncomment and run the following lines for Google Colab\n",
    "#from google.colab import drive\n",
    "#drive.mount('/content/drive')"
   ]
  },
  {
   "cell_type": "code",
   "execution_count": 3,
   "id": "b1c4c910",
   "metadata": {
    "execution": {
     "iopub.execute_input": "2024-01-25T19:39:07.450844Z",
     "iopub.status.busy": "2024-01-25T19:39:07.449918Z",
     "iopub.status.idle": "2024-01-25T19:39:07.518658Z",
     "shell.execute_reply": "2024-01-25T19:39:07.517283Z"
    },
    "id": "GF01IZDbJY_O",
    "outputId": "59a5d39c-16a3-46ba-f551-8dbb044a6841",
    "papermill": {
     "duration": 0.115382,
     "end_time": "2024-01-25T19:39:07.522042",
     "exception": false,
     "start_time": "2024-01-25T19:39:07.406660",
     "status": "completed"
    },
    "scrolled": true,
    "tags": []
   },
   "outputs": [
    {
     "data": {
      "text/html": [
       "<div>\n",
       "<style scoped>\n",
       "    .dataframe tbody tr th:only-of-type {\n",
       "        vertical-align: middle;\n",
       "    }\n",
       "\n",
       "    .dataframe tbody tr th {\n",
       "        vertical-align: top;\n",
       "    }\n",
       "\n",
       "    .dataframe thead th {\n",
       "        text-align: right;\n",
       "    }\n",
       "</style>\n",
       "<table border=\"1\" class=\"dataframe\">\n",
       "  <thead>\n",
       "    <tr style=\"text-align: right;\">\n",
       "      <th></th>\n",
       "      <th>order_id</th>\n",
       "      <th>customer_id</th>\n",
       "      <th>restaurant_name</th>\n",
       "      <th>cuisine_type</th>\n",
       "      <th>cost_of_the_order</th>\n",
       "      <th>day_of_the_week</th>\n",
       "      <th>rating</th>\n",
       "      <th>food_preparation_time</th>\n",
       "      <th>delivery_time</th>\n",
       "    </tr>\n",
       "  </thead>\n",
       "  <tbody>\n",
       "    <tr>\n",
       "      <th>0</th>\n",
       "      <td>1477147</td>\n",
       "      <td>337525</td>\n",
       "      <td>Hangawi</td>\n",
       "      <td>Korean</td>\n",
       "      <td>30.75</td>\n",
       "      <td>Weekend</td>\n",
       "      <td>Not given</td>\n",
       "      <td>25</td>\n",
       "      <td>20</td>\n",
       "    </tr>\n",
       "    <tr>\n",
       "      <th>1</th>\n",
       "      <td>1477685</td>\n",
       "      <td>358141</td>\n",
       "      <td>Blue Ribbon Sushi Izakaya</td>\n",
       "      <td>Japanese</td>\n",
       "      <td>12.08</td>\n",
       "      <td>Weekend</td>\n",
       "      <td>Not given</td>\n",
       "      <td>25</td>\n",
       "      <td>23</td>\n",
       "    </tr>\n",
       "    <tr>\n",
       "      <th>2</th>\n",
       "      <td>1477070</td>\n",
       "      <td>66393</td>\n",
       "      <td>Cafe Habana</td>\n",
       "      <td>Mexican</td>\n",
       "      <td>12.23</td>\n",
       "      <td>Weekday</td>\n",
       "      <td>5</td>\n",
       "      <td>23</td>\n",
       "      <td>28</td>\n",
       "    </tr>\n",
       "    <tr>\n",
       "      <th>3</th>\n",
       "      <td>1477334</td>\n",
       "      <td>106968</td>\n",
       "      <td>Blue Ribbon Fried Chicken</td>\n",
       "      <td>American</td>\n",
       "      <td>29.20</td>\n",
       "      <td>Weekend</td>\n",
       "      <td>3</td>\n",
       "      <td>25</td>\n",
       "      <td>15</td>\n",
       "    </tr>\n",
       "    <tr>\n",
       "      <th>4</th>\n",
       "      <td>1478249</td>\n",
       "      <td>76942</td>\n",
       "      <td>Dirty Bird to Go</td>\n",
       "      <td>American</td>\n",
       "      <td>11.59</td>\n",
       "      <td>Weekday</td>\n",
       "      <td>4</td>\n",
       "      <td>25</td>\n",
       "      <td>24</td>\n",
       "    </tr>\n",
       "  </tbody>\n",
       "</table>\n",
       "</div>"
      ],
      "text/plain": [
       "   order_id  customer_id            restaurant_name cuisine_type  \\\n",
       "0   1477147       337525                    Hangawi       Korean   \n",
       "1   1477685       358141  Blue Ribbon Sushi Izakaya     Japanese   \n",
       "2   1477070        66393                Cafe Habana      Mexican   \n",
       "3   1477334       106968  Blue Ribbon Fried Chicken     American   \n",
       "4   1478249        76942           Dirty Bird to Go     American   \n",
       "\n",
       "   cost_of_the_order day_of_the_week     rating  food_preparation_time  \\\n",
       "0              30.75         Weekend  Not given                     25   \n",
       "1              12.08         Weekend  Not given                     25   \n",
       "2              12.23         Weekday          5                     23   \n",
       "3              29.20         Weekend          3                     25   \n",
       "4              11.59         Weekday          4                     25   \n",
       "\n",
       "   delivery_time  \n",
       "0             20  \n",
       "1             23  \n",
       "2             28  \n",
       "3             15  \n",
       "4             24  "
      ]
     },
     "execution_count": 3,
     "metadata": {},
     "output_type": "execute_result"
    }
   ],
   "source": [
    "# read the data\n",
    "df = pd.read_csv('/kaggle/input/foodhubdataset/foodhub_order.csv')\n",
    "# returns the first 5 rows\n",
    "df.head()"
   ]
  },
  {
   "cell_type": "markdown",
   "id": "55f3c640",
   "metadata": {
    "id": "J_Y9aJDJJY_P",
    "papermill": {
     "duration": 0.03755,
     "end_time": "2024-01-25T19:39:07.603038",
     "exception": false,
     "start_time": "2024-01-25T19:39:07.565488",
     "status": "completed"
    },
    "tags": []
   },
   "source": [
    "#### Observations:\n",
    "\n",
    "The DataFrame has 9 columns as mentioned in the Data Dictionary. Data in each row corresponds to the order placed by a customer."
   ]
  },
  {
   "cell_type": "markdown",
   "id": "752f65c5",
   "metadata": {
    "id": "c3kenV4vJY_Q",
    "papermill": {
     "duration": 0.036233,
     "end_time": "2024-01-25T19:39:07.675414",
     "exception": false,
     "start_time": "2024-01-25T19:39:07.639181",
     "status": "completed"
    },
    "tags": []
   },
   "source": [
    "### **Question 1:** How many rows and columns are present in the data? [0.5 mark]"
   ]
  },
  {
   "cell_type": "code",
   "execution_count": 4,
   "id": "47808edc",
   "metadata": {
    "execution": {
     "iopub.execute_input": "2024-01-25T19:39:07.749148Z",
     "iopub.status.busy": "2024-01-25T19:39:07.747805Z",
     "iopub.status.idle": "2024-01-25T19:39:07.756926Z",
     "shell.execute_reply": "2024-01-25T19:39:07.755630Z"
    },
    "id": "Yvz5i-PhJY_Q",
    "outputId": "1457566a-9202-4e7a-cc63-2e76b5bc590a",
    "papermill": {
     "duration": 0.048952,
     "end_time": "2024-01-25T19:39:07.759641",
     "exception": false,
     "start_time": "2024-01-25T19:39:07.710689",
     "status": "completed"
    },
    "tags": []
   },
   "outputs": [
    {
     "data": {
      "text/plain": [
       "(1898, 9)"
      ]
     },
     "execution_count": 4,
     "metadata": {},
     "output_type": "execute_result"
    }
   ],
   "source": [
    "df.shape # print the dimensions of the DataFrame"
   ]
  },
  {
   "cell_type": "markdown",
   "id": "87a9cc9c",
   "metadata": {
    "id": "UsTNy3unJY_R",
    "papermill": {
     "duration": 0.035678,
     "end_time": "2024-01-25T19:39:07.833069",
     "exception": false,
     "start_time": "2024-01-25T19:39:07.797391",
     "status": "completed"
    },
    "tags": []
   },
   "source": [
    "#### Observations:The dataset has 1898 rows and 9 columns\n"
   ]
  },
  {
   "cell_type": "markdown",
   "id": "69c7a730",
   "metadata": {
    "id": "jRXakVrUJY_R",
    "papermill": {
     "duration": 0.034856,
     "end_time": "2024-01-25T19:39:07.903658",
     "exception": false,
     "start_time": "2024-01-25T19:39:07.868802",
     "status": "completed"
    },
    "tags": []
   },
   "source": [
    "### **Question 2:** What are the datatypes of the different columns in the dataset? (The info() function can be used) [0.5 mark]"
   ]
  },
  {
   "cell_type": "code",
   "execution_count": 5,
   "id": "62549ce4",
   "metadata": {
    "execution": {
     "iopub.execute_input": "2024-01-25T19:39:07.977793Z",
     "iopub.status.busy": "2024-01-25T19:39:07.976810Z",
     "iopub.status.idle": "2024-01-25T19:39:08.143325Z",
     "shell.execute_reply": "2024-01-25T19:39:08.142222Z"
    },
    "id": "Kp70Z0BNJY_R",
    "outputId": "5ec804de-0bd5-45dd-981e-8a7547ed2161",
    "papermill": {
     "duration": 0.208634,
     "end_time": "2024-01-25T19:39:08.147578",
     "exception": false,
     "start_time": "2024-01-25T19:39:07.938944",
     "status": "completed"
    },
    "tags": []
   },
   "outputs": [
    {
     "name": "stdout",
     "output_type": "stream",
     "text": [
      "<class 'pandas.core.frame.DataFrame'>\n",
      "RangeIndex: 1898 entries, 0 to 1897\n",
      "Data columns (total 9 columns):\n",
      " #   Column                 Non-Null Count  Dtype  \n",
      "---  ------                 --------------  -----  \n",
      " 0   order_id               1898 non-null   int64  \n",
      " 1   customer_id            1898 non-null   int64  \n",
      " 2   restaurant_name        1898 non-null   object \n",
      " 3   cuisine_type           1898 non-null   object \n",
      " 4   cost_of_the_order      1898 non-null   float64\n",
      " 5   day_of_the_week        1898 non-null   object \n",
      " 6   rating                 1898 non-null   object \n",
      " 7   food_preparation_time  1898 non-null   int64  \n",
      " 8   delivery_time          1898 non-null   int64  \n",
      "dtypes: float64(1), int64(4), object(4)\n",
      "memory usage: 133.6+ KB\n"
     ]
    }
   ],
   "source": [
    "# Use info() to print a concise summary of the DataFrame\n",
    "df.info()"
   ]
  },
  {
   "cell_type": "markdown",
   "id": "68718220",
   "metadata": {
    "id": "WJes5GP2JY_S",
    "papermill": {
     "duration": 0.035629,
     "end_time": "2024-01-25T19:39:08.226152",
     "exception": false,
     "start_time": "2024-01-25T19:39:08.190523",
     "status": "completed"
    },
    "tags": []
   },
   "source": [
    "#### Observations:All the columns have 1898 observations indicating that there are no missing values in them. There are 5 numerical columns in the data and 4 object columns The pickup_dt column is being read as a 'object' data type The restaurant_name and cuisine_type , day of the week and rating are of object type while the rest of the columns are numerical in nature where all are integers except cost_of_the_order is float\n"
   ]
  },
  {
   "cell_type": "markdown",
   "id": "f7d4de9b",
   "metadata": {
    "id": "pF_92MN6JY_S",
    "papermill": {
     "duration": 0.036042,
     "end_time": "2024-01-25T19:39:08.297577",
     "exception": false,
     "start_time": "2024-01-25T19:39:08.261535",
     "status": "completed"
    },
    "tags": []
   },
   "source": [
    "### **Question 3:** Are there any missing values in the data? If yes, treat them using an appropriate method. [1 mark]"
   ]
  },
  {
   "cell_type": "code",
   "execution_count": 6,
   "id": "c790d006",
   "metadata": {
    "execution": {
     "iopub.execute_input": "2024-01-25T19:39:08.371973Z",
     "iopub.status.busy": "2024-01-25T19:39:08.371091Z",
     "iopub.status.idle": "2024-01-25T19:39:08.382220Z",
     "shell.execute_reply": "2024-01-25T19:39:08.381028Z"
    },
    "id": "Zth-RR1PJY_S",
    "outputId": "34518f80-d77c-4637-cd6f-fe5b04cf277b",
    "papermill": {
     "duration": 0.050541,
     "end_time": "2024-01-25T19:39:08.384723",
     "exception": false,
     "start_time": "2024-01-25T19:39:08.334182",
     "status": "completed"
    },
    "tags": []
   },
   "outputs": [
    {
     "data": {
      "text/plain": [
       "order_id                 0\n",
       "customer_id              0\n",
       "restaurant_name          0\n",
       "cuisine_type             0\n",
       "cost_of_the_order        0\n",
       "day_of_the_week          0\n",
       "rating                   0\n",
       "food_preparation_time    0\n",
       "delivery_time            0\n",
       "dtype: int64"
      ]
     },
     "execution_count": 6,
     "metadata": {},
     "output_type": "execute_result"
    }
   ],
   "source": [
    "# Write your code here\n",
    "df.isnull().sum() #print the sum of null values for each column"
   ]
  },
  {
   "cell_type": "markdown",
   "id": "432f9925",
   "metadata": {
    "id": "jDHT3vD1JY_S",
    "papermill": {
     "duration": 0.034831,
     "end_time": "2024-01-25T19:39:08.454999",
     "exception": false,
     "start_time": "2024-01-25T19:39:08.420168",
     "status": "completed"
    },
    "tags": []
   },
   "source": [
    "#### Observations:As previously mentioned there are no missing values. also the following code validates the same result since as shown there are zero variables missing as given by result.\n"
   ]
  },
  {
   "cell_type": "markdown",
   "id": "31af579c",
   "metadata": {
    "id": "MnJo7MWrJY_S",
    "papermill": {
     "duration": 0.035894,
     "end_time": "2024-01-25T19:39:08.527915",
     "exception": false,
     "start_time": "2024-01-25T19:39:08.492021",
     "status": "completed"
    },
    "tags": []
   },
   "source": [
    "### **Question 4:** Check the statistical summary of the data. What is the minimum, average, and maximum time it takes for food to be prepared once an order is placed? [2 marks]"
   ]
  },
  {
   "cell_type": "code",
   "execution_count": 7,
   "id": "fa81ea3a",
   "metadata": {
    "execution": {
     "iopub.execute_input": "2024-01-25T19:39:08.601629Z",
     "iopub.status.busy": "2024-01-25T19:39:08.601096Z",
     "iopub.status.idle": "2024-01-25T19:39:08.633118Z",
     "shell.execute_reply": "2024-01-25T19:39:08.631801Z"
    },
    "id": "pisSsoYMg-45",
    "outputId": "733f037d-b567-4165-8d49-5279ca5fc066",
    "papermill": {
     "duration": 0.072606,
     "end_time": "2024-01-25T19:39:08.636415",
     "exception": false,
     "start_time": "2024-01-25T19:39:08.563809",
     "status": "completed"
    },
    "tags": []
   },
   "outputs": [
    {
     "data": {
      "text/html": [
       "<div>\n",
       "<style scoped>\n",
       "    .dataframe tbody tr th:only-of-type {\n",
       "        vertical-align: middle;\n",
       "    }\n",
       "\n",
       "    .dataframe tbody tr th {\n",
       "        vertical-align: top;\n",
       "    }\n",
       "\n",
       "    .dataframe thead th {\n",
       "        text-align: right;\n",
       "    }\n",
       "</style>\n",
       "<table border=\"1\" class=\"dataframe\">\n",
       "  <thead>\n",
       "    <tr style=\"text-align: right;\">\n",
       "      <th></th>\n",
       "      <th>order_id</th>\n",
       "      <th>customer_id</th>\n",
       "      <th>cost_of_the_order</th>\n",
       "      <th>food_preparation_time</th>\n",
       "      <th>delivery_time</th>\n",
       "    </tr>\n",
       "  </thead>\n",
       "  <tbody>\n",
       "    <tr>\n",
       "      <th>count</th>\n",
       "      <td>1.898000e+03</td>\n",
       "      <td>1898.000000</td>\n",
       "      <td>1898.000000</td>\n",
       "      <td>1898.000000</td>\n",
       "      <td>1898.000000</td>\n",
       "    </tr>\n",
       "    <tr>\n",
       "      <th>mean</th>\n",
       "      <td>1.477496e+06</td>\n",
       "      <td>171168.478398</td>\n",
       "      <td>16.498851</td>\n",
       "      <td>27.371970</td>\n",
       "      <td>24.161749</td>\n",
       "    </tr>\n",
       "    <tr>\n",
       "      <th>std</th>\n",
       "      <td>5.480497e+02</td>\n",
       "      <td>113698.139743</td>\n",
       "      <td>7.483812</td>\n",
       "      <td>4.632481</td>\n",
       "      <td>4.972637</td>\n",
       "    </tr>\n",
       "    <tr>\n",
       "      <th>min</th>\n",
       "      <td>1.476547e+06</td>\n",
       "      <td>1311.000000</td>\n",
       "      <td>4.470000</td>\n",
       "      <td>20.000000</td>\n",
       "      <td>15.000000</td>\n",
       "    </tr>\n",
       "    <tr>\n",
       "      <th>25%</th>\n",
       "      <td>1.477021e+06</td>\n",
       "      <td>77787.750000</td>\n",
       "      <td>12.080000</td>\n",
       "      <td>23.000000</td>\n",
       "      <td>20.000000</td>\n",
       "    </tr>\n",
       "    <tr>\n",
       "      <th>50%</th>\n",
       "      <td>1.477496e+06</td>\n",
       "      <td>128600.000000</td>\n",
       "      <td>14.140000</td>\n",
       "      <td>27.000000</td>\n",
       "      <td>25.000000</td>\n",
       "    </tr>\n",
       "    <tr>\n",
       "      <th>75%</th>\n",
       "      <td>1.477970e+06</td>\n",
       "      <td>270525.000000</td>\n",
       "      <td>22.297500</td>\n",
       "      <td>31.000000</td>\n",
       "      <td>28.000000</td>\n",
       "    </tr>\n",
       "    <tr>\n",
       "      <th>max</th>\n",
       "      <td>1.478444e+06</td>\n",
       "      <td>405334.000000</td>\n",
       "      <td>35.410000</td>\n",
       "      <td>35.000000</td>\n",
       "      <td>33.000000</td>\n",
       "    </tr>\n",
       "  </tbody>\n",
       "</table>\n",
       "</div>"
      ],
      "text/plain": [
       "           order_id    customer_id  cost_of_the_order  food_preparation_time  \\\n",
       "count  1.898000e+03    1898.000000        1898.000000            1898.000000   \n",
       "mean   1.477496e+06  171168.478398          16.498851              27.371970   \n",
       "std    5.480497e+02  113698.139743           7.483812               4.632481   \n",
       "min    1.476547e+06    1311.000000           4.470000              20.000000   \n",
       "25%    1.477021e+06   77787.750000          12.080000              23.000000   \n",
       "50%    1.477496e+06  128600.000000          14.140000              27.000000   \n",
       "75%    1.477970e+06  270525.000000          22.297500              31.000000   \n",
       "max    1.478444e+06  405334.000000          35.410000              35.000000   \n",
       "\n",
       "       delivery_time  \n",
       "count    1898.000000  \n",
       "mean       24.161749  \n",
       "std         4.972637  \n",
       "min        15.000000  \n",
       "25%        20.000000  \n",
       "50%        25.000000  \n",
       "75%        28.000000  \n",
       "max        33.000000  "
      ]
     },
     "execution_count": 7,
     "metadata": {},
     "output_type": "execute_result"
    }
   ],
   "source": [
    "df.describe()"
   ]
  },
  {
   "cell_type": "markdown",
   "id": "743f368a",
   "metadata": {
    "id": "diWchSNEhPZy",
    "papermill": {
     "duration": 0.03524,
     "end_time": "2024-01-25T19:39:08.706993",
     "exception": false,
     "start_time": "2024-01-25T19:39:08.671753",
     "status": "completed"
    },
    "tags": []
   },
   "source": [
    "Observation: Order ID and Customer ID are just identifiers for each order.\n",
    "The cost of an order ranges from 4.47 to 35.41 dollars, with an average order costing around 16 dollars and a standard deviation of 7.5 dollars. The cost of 75% of the orders are below 23 dollars. This indicates that most of the customers prefer low-cost food compared to the expensive ones.\n",
    "Food preparation time ranges from 20 to 35 minutes, with an average of around 27 minutes and a standard deviation of 4.6 minutes. The spread is not very high for the food preparation time.\n",
    "Delivery time ranges from 15 to 33 minutes, with an average of around 24 minutes and a standard deviation of 5 minutes. The spread is not too high for delivery time either."
   ]
  },
  {
   "cell_type": "code",
   "execution_count": 8,
   "id": "7ef10259",
   "metadata": {
    "execution": {
     "iopub.execute_input": "2024-01-25T19:39:08.780724Z",
     "iopub.status.busy": "2024-01-25T19:39:08.780187Z",
     "iopub.status.idle": "2024-01-25T19:39:08.814009Z",
     "shell.execute_reply": "2024-01-25T19:39:08.812796Z"
    },
    "id": "WprQBgOSJY_T",
    "outputId": "a71942cd-350a-4d28-b779-5508aba9f390",
    "papermill": {
     "duration": 0.074282,
     "end_time": "2024-01-25T19:39:08.816714",
     "exception": false,
     "start_time": "2024-01-25T19:39:08.742432",
     "status": "completed"
    },
    "tags": []
   },
   "outputs": [
    {
     "data": {
      "text/html": [
       "<div>\n",
       "<style scoped>\n",
       "    .dataframe tbody tr th:only-of-type {\n",
       "        vertical-align: middle;\n",
       "    }\n",
       "\n",
       "    .dataframe tbody tr th {\n",
       "        vertical-align: top;\n",
       "    }\n",
       "\n",
       "    .dataframe thead th {\n",
       "        text-align: right;\n",
       "    }\n",
       "</style>\n",
       "<table border=\"1\" class=\"dataframe\">\n",
       "  <thead>\n",
       "    <tr style=\"text-align: right;\">\n",
       "      <th></th>\n",
       "      <th>count</th>\n",
       "      <th>mean</th>\n",
       "      <th>std</th>\n",
       "      <th>min</th>\n",
       "      <th>25%</th>\n",
       "      <th>50%</th>\n",
       "      <th>75%</th>\n",
       "      <th>max</th>\n",
       "    </tr>\n",
       "  </thead>\n",
       "  <tbody>\n",
       "    <tr>\n",
       "      <th>order_id</th>\n",
       "      <td>1898.0</td>\n",
       "      <td>1.477496e+06</td>\n",
       "      <td>548.049724</td>\n",
       "      <td>1476547.00</td>\n",
       "      <td>1477021.25</td>\n",
       "      <td>1477495.50</td>\n",
       "      <td>1.477970e+06</td>\n",
       "      <td>1478444.00</td>\n",
       "    </tr>\n",
       "    <tr>\n",
       "      <th>customer_id</th>\n",
       "      <td>1898.0</td>\n",
       "      <td>1.711685e+05</td>\n",
       "      <td>113698.139743</td>\n",
       "      <td>1311.00</td>\n",
       "      <td>77787.75</td>\n",
       "      <td>128600.00</td>\n",
       "      <td>2.705250e+05</td>\n",
       "      <td>405334.00</td>\n",
       "    </tr>\n",
       "    <tr>\n",
       "      <th>cost_of_the_order</th>\n",
       "      <td>1898.0</td>\n",
       "      <td>1.649885e+01</td>\n",
       "      <td>7.483812</td>\n",
       "      <td>4.47</td>\n",
       "      <td>12.08</td>\n",
       "      <td>14.14</td>\n",
       "      <td>2.229750e+01</td>\n",
       "      <td>35.41</td>\n",
       "    </tr>\n",
       "    <tr>\n",
       "      <th>food_preparation_time</th>\n",
       "      <td>1898.0</td>\n",
       "      <td>2.737197e+01</td>\n",
       "      <td>4.632481</td>\n",
       "      <td>20.00</td>\n",
       "      <td>23.00</td>\n",
       "      <td>27.00</td>\n",
       "      <td>3.100000e+01</td>\n",
       "      <td>35.00</td>\n",
       "    </tr>\n",
       "    <tr>\n",
       "      <th>delivery_time</th>\n",
       "      <td>1898.0</td>\n",
       "      <td>2.416175e+01</td>\n",
       "      <td>4.972637</td>\n",
       "      <td>15.00</td>\n",
       "      <td>20.00</td>\n",
       "      <td>25.00</td>\n",
       "      <td>2.800000e+01</td>\n",
       "      <td>33.00</td>\n",
       "    </tr>\n",
       "  </tbody>\n",
       "</table>\n",
       "</div>"
      ],
      "text/plain": [
       "                        count          mean            std         min  \\\n",
       "order_id               1898.0  1.477496e+06     548.049724  1476547.00   \n",
       "customer_id            1898.0  1.711685e+05  113698.139743     1311.00   \n",
       "cost_of_the_order      1898.0  1.649885e+01       7.483812        4.47   \n",
       "food_preparation_time  1898.0  2.737197e+01       4.632481       20.00   \n",
       "delivery_time          1898.0  2.416175e+01       4.972637       15.00   \n",
       "\n",
       "                              25%         50%           75%         max  \n",
       "order_id               1477021.25  1477495.50  1.477970e+06  1478444.00  \n",
       "customer_id              77787.75   128600.00  2.705250e+05   405334.00  \n",
       "cost_of_the_order           12.08       14.14  2.229750e+01       35.41  \n",
       "food_preparation_time       23.00       27.00  3.100000e+01       35.00  \n",
       "delivery_time               20.00       25.00  2.800000e+01       33.00  "
      ]
     },
     "execution_count": 8,
     "metadata": {},
     "output_type": "execute_result"
    }
   ],
   "source": [
    "# Write your code here\n",
    "df.describe().T #print the statitical summary of the data"
   ]
  },
  {
   "cell_type": "markdown",
   "id": "09d21216",
   "metadata": {
    "id": "9YbSOR5wJY_T",
    "papermill": {
     "duration": 0.035817,
     "end_time": "2024-01-25T19:39:08.888183",
     "exception": false,
     "start_time": "2024-01-25T19:39:08.852366",
     "status": "completed"
    },
    "tags": []
   },
   "source": [
    "#### Observations:On average cost of the order, food preparation time and delivery time are 17 monetary units , 27 minutes and 24 minutes respectively. cost of the order : 75% of te cost of orders is 22.30 while max. cost is around 35.41 with a little huge statndard deviation mounted to 7.5 monetary units. *the distribution of food preparation time and delivery time is fine . while 75% of food preparation time is about 27 minutes, the maximum record is 35 with deviation 4.6 minutes. As for delivery time 75% are within 28 minutes while the maximum value is 33 minutes with dispersion around 5\n"
   ]
  },
  {
   "cell_type": "markdown",
   "id": "5cc0ad66",
   "metadata": {
    "id": "cw3l58z_JY_T",
    "papermill": {
     "duration": 0.036741,
     "end_time": "2024-01-25T19:39:08.960713",
     "exception": false,
     "start_time": "2024-01-25T19:39:08.923972",
     "status": "completed"
    },
    "tags": []
   },
   "source": [
    "### **Question 5:** How many orders are not rated? [1 mark]"
   ]
  },
  {
   "cell_type": "code",
   "execution_count": 9,
   "id": "b58ced73",
   "metadata": {
    "execution": {
     "iopub.execute_input": "2024-01-25T19:39:09.036430Z",
     "iopub.status.busy": "2024-01-25T19:39:09.035457Z",
     "iopub.status.idle": "2024-01-25T19:39:09.046604Z",
     "shell.execute_reply": "2024-01-25T19:39:09.045332Z"
    },
    "id": "7qln2u0jnQ1n",
    "outputId": "57214605-b60a-41c6-9dcc-461bf97fcf81",
    "papermill": {
     "duration": 0.053531,
     "end_time": "2024-01-25T19:39:09.050870",
     "exception": false,
     "start_time": "2024-01-25T19:39:08.997339",
     "status": "completed"
    },
    "tags": []
   },
   "outputs": [
    {
     "name": "stdout",
     "output_type": "stream",
     "text": [
      "736\n"
     ]
    }
   ],
   "source": [
    "print(df[df['rating'] == 'Not given']['rating'].count())"
   ]
  },
  {
   "cell_type": "code",
   "execution_count": 10,
   "id": "63e19c10",
   "metadata": {
    "execution": {
     "iopub.execute_input": "2024-01-25T19:39:09.130111Z",
     "iopub.status.busy": "2024-01-25T19:39:09.128165Z",
     "iopub.status.idle": "2024-01-25T19:39:09.141471Z",
     "shell.execute_reply": "2024-01-25T19:39:09.139569Z"
    },
    "id": "hEzDUL9wgksi",
    "outputId": "53e77a55-6780-457a-f921-24fb3a87b440",
    "papermill": {
     "duration": 0.058044,
     "end_time": "2024-01-25T19:39:09.144914",
     "exception": false,
     "start_time": "2024-01-25T19:39:09.086870",
     "status": "completed"
    },
    "tags": []
   },
   "outputs": [
    {
     "name": "stdout",
     "output_type": "stream",
     "text": [
      "rating\n",
      "Not given    736\n",
      "5            588\n",
      "4            386\n",
      "3            188\n",
      "Name: count, dtype: int64\n",
      "__________________________________________________\n"
     ]
    }
   ],
   "source": [
    "# Write the code here\n",
    "cat_cols = ['rating']  # Defines a list of categorical columns containing 'rating'\n",
    "for column in cat_cols:  # For each column in the list\n",
    "    print(df[column].value_counts())  # Prints the count of unique values in the 'rating' column\n",
    "print(\"_\"*50)  # Prints a line of underscores to visually separate the output\n",
    "\n"
   ]
  },
  {
   "cell_type": "markdown",
   "id": "e7a2564d",
   "metadata": {
    "id": "5E0O_oviJY_T",
    "papermill": {
     "duration": 0.035419,
     "end_time": "2024-01-25T19:39:09.223866",
     "exception": false,
     "start_time": "2024-01-25T19:39:09.188447",
     "status": "completed"
    },
    "tags": []
   },
   "source": [
    "#### Observations:There are 736 unrated orders in the data.\n"
   ]
  },
  {
   "cell_type": "markdown",
   "id": "b386e17e",
   "metadata": {
    "id": "7msIfXE-JY_T",
    "papermill": {
     "duration": 0.041653,
     "end_time": "2024-01-25T19:39:09.301436",
     "exception": false,
     "start_time": "2024-01-25T19:39:09.259783",
     "status": "completed"
    },
    "tags": []
   },
   "source": [
    "### Exploratory Data Analysis (EDA)"
   ]
  },
  {
   "cell_type": "markdown",
   "id": "87e547c7",
   "metadata": {
    "id": "-2xfI28YJY_T",
    "papermill": {
     "duration": 0.045666,
     "end_time": "2024-01-25T19:39:09.396438",
     "exception": false,
     "start_time": "2024-01-25T19:39:09.350772",
     "status": "completed"
    },
    "tags": []
   },
   "source": [
    "### Univariate Analysis"
   ]
  },
  {
   "cell_type": "markdown",
   "id": "f1a8eac4",
   "metadata": {
    "id": "0RHZnugBJY_U",
    "papermill": {
     "duration": 0.035806,
     "end_time": "2024-01-25T19:39:09.473223",
     "exception": false,
     "start_time": "2024-01-25T19:39:09.437417",
     "status": "completed"
    },
    "tags": []
   },
   "source": [
    "### **Question 6:** Explore all the variables and provide observations on their distributions. (Generally, histograms, boxplots, countplots, etc. are used for univariate exploration.) [9 marks]"
   ]
  },
  {
   "cell_type": "markdown",
   "id": "db4f3192",
   "metadata": {
    "id": "_JpcE9EZLFjQ",
    "papermill": {
     "duration": 0.043806,
     "end_time": "2024-01-25T19:39:09.557173",
     "exception": false,
     "start_time": "2024-01-25T19:39:09.513367",
     "status": "completed"
    },
    "tags": []
   },
   "source": [
    "**Order ID**"
   ]
  },
  {
   "cell_type": "code",
   "execution_count": 11,
   "id": "1192dc82",
   "metadata": {
    "execution": {
     "iopub.execute_input": "2024-01-25T19:39:09.634415Z",
     "iopub.status.busy": "2024-01-25T19:39:09.633942Z",
     "iopub.status.idle": "2024-01-25T19:39:09.904077Z",
     "shell.execute_reply": "2024-01-25T19:39:09.902593Z"
    },
    "id": "rU5ZqISjJY_U",
    "outputId": "c1b45b7a-68d3-40e0-9c64-e4094a63efcb",
    "papermill": {
     "duration": 0.310545,
     "end_time": "2024-01-25T19:39:09.906965",
     "exception": false,
     "start_time": "2024-01-25T19:39:09.596420",
     "status": "completed"
    },
    "tags": []
   },
   "outputs": [
    {
     "data": {
      "image/png": "[encoded data removed]",
      "text/plain": [
       "<Figure size 640x480 with 1 Axes>"
      ]
     },
     "metadata": {},
     "output_type": "display_data"
    }
   ],
   "source": [
    "# Write the code here\n",
    "sns.boxplot(data=df, x='order_id')  # Generates a boxplot using seaborn (sns) for the 'order_id' column in the DataFrame (df)\n",
    "plt.show()  # Displays the generated boxplot"
   ]
  },
  {
   "cell_type": "markdown",
   "id": "e600ae48",
   "metadata": {
    "id": "3zoCJviYCI9M",
    "papermill": {
     "duration": 0.036582,
     "end_time": "2024-01-25T19:39:09.980069",
     "exception": false,
     "start_time": "2024-01-25T19:39:09.943487",
     "status": "completed"
    },
    "tags": []
   },
   "source": [
    "Observations:There are no outliers , the distribution of \" order_id\" is a normal distribution.\n"
   ]
  },
  {
   "cell_type": "markdown",
   "id": "b1e75ea5",
   "metadata": {
    "id": "R48ogNGHLMgQ",
    "papermill": {
     "duration": 0.036761,
     "end_time": "2024-01-25T19:39:10.053608",
     "exception": false,
     "start_time": "2024-01-25T19:39:10.016847",
     "status": "completed"
    },
    "tags": []
   },
   "source": [
    "**Customer ID**"
   ]
  },
  {
   "cell_type": "code",
   "execution_count": 12,
   "id": "f4a7d8bc",
   "metadata": {
    "execution": {
     "iopub.execute_input": "2024-01-25T19:39:10.129144Z",
     "iopub.status.busy": "2024-01-25T19:39:10.128260Z",
     "iopub.status.idle": "2024-01-25T19:39:10.368633Z",
     "shell.execute_reply": "2024-01-25T19:39:10.367173Z"
    },
    "id": "y24s3Yj_BwvT",
    "outputId": "15d7710d-c257-4d9b-9961-e2c7a178adea",
    "papermill": {
     "duration": 0.281856,
     "end_time": "2024-01-25T19:39:10.371661",
     "exception": false,
     "start_time": "2024-01-25T19:39:10.089805",
     "status": "completed"
    },
    "tags": []
   },
   "outputs": [
    {
     "data": {
      "image/png": "[encoded data removed]",
      "text/plain": [
       "<Figure size 640x480 with 1 Axes>"
      ]
     },
     "metadata": {},
     "output_type": "display_data"
    }
   ],
   "source": [
    "sns.boxplot(data=df, x='customer_id')  # Creates a boxplot using Seaborn (sns) for the 'customer_id' column in the DataFrame (df)\n",
    "plt.show()  # Displays the generated boxplot"
   ]
  },
  {
   "cell_type": "markdown",
   "id": "38a334b8",
   "metadata": {
    "id": "dI2TrdTfBqrU",
    "papermill": {
     "duration": 0.036153,
     "end_time": "2024-01-25T19:39:10.444655",
     "exception": false,
     "start_time": "2024-01-25T19:39:10.408502",
     "status": "completed"
    },
    "tags": []
   },
   "source": [
    "Observations: There are no outliers , however the distribution seems to be skewed to the right"
   ]
  },
  {
   "cell_type": "markdown",
   "id": "97760b6f",
   "metadata": {
    "id": "PF6vY0JELTdH",
    "papermill": {
     "duration": 0.036603,
     "end_time": "2024-01-25T19:39:10.517998",
     "exception": false,
     "start_time": "2024-01-25T19:39:10.481395",
     "status": "completed"
    },
    "tags": []
   },
   "source": [
    "**Restaurant name**"
   ]
  },
  {
   "cell_type": "code",
   "execution_count": 13,
   "id": "c0dcd361",
   "metadata": {
    "execution": {
     "iopub.execute_input": "2024-01-25T19:39:10.594741Z",
     "iopub.status.busy": "2024-01-25T19:39:10.593213Z",
     "iopub.status.idle": "2024-01-25T19:39:10.602129Z",
     "shell.execute_reply": "2024-01-25T19:39:10.601072Z"
    },
    "id": "0FOm7dOpLgac",
    "outputId": "71029570-5552-4b4b-be46-6aad0e782e58",
    "papermill": {
     "duration": 0.050172,
     "end_time": "2024-01-25T19:39:10.604718",
     "exception": false,
     "start_time": "2024-01-25T19:39:10.554546",
     "status": "completed"
    },
    "tags": []
   },
   "outputs": [
    {
     "data": {
      "text/plain": [
       "178"
      ]
     },
     "execution_count": 13,
     "metadata": {},
     "output_type": "execute_result"
    }
   ],
   "source": [
    "df['restaurant_name'].nunique()"
   ]
  },
  {
   "cell_type": "markdown",
   "id": "6f9111a5",
   "metadata": {
    "id": "QvbL0msaOwkt",
    "papermill": {
     "duration": 0.036478,
     "end_time": "2024-01-25T19:39:10.677916",
     "exception": false,
     "start_time": "2024-01-25T19:39:10.641438",
     "status": "completed"
    },
    "tags": []
   },
   "source": [
    "Observations: There are 178 unique restaurants in the dataset.\n",
    "Let's check the number of orders that get served by the restaurants.\n"
   ]
  },
  {
   "cell_type": "code",
   "execution_count": 14,
   "id": "ed194f08",
   "metadata": {
    "execution": {
     "iopub.execute_input": "2024-01-25T19:39:10.756486Z",
     "iopub.status.busy": "2024-01-25T19:39:10.755048Z",
     "iopub.status.idle": "2024-01-25T19:39:10.766861Z",
     "shell.execute_reply": "2024-01-25T19:39:10.765356Z"
    },
    "id": "G7OysPq8PL21",
    "outputId": "d03c4a61-becc-4244-fbed-77981c61784f",
    "papermill": {
     "duration": 0.055347,
     "end_time": "2024-01-25T19:39:10.770048",
     "exception": false,
     "start_time": "2024-01-25T19:39:10.714701",
     "status": "completed"
    },
    "tags": []
   },
   "outputs": [
    {
     "data": {
      "text/plain": [
       "restaurant_name\n",
       "Shake Shack                  219\n",
       "The Meatball Shop            132\n",
       "Blue Ribbon Sushi            119\n",
       "Blue Ribbon Fried Chicken     96\n",
       "Parm                          68\n",
       "                            ... \n",
       "Sushi Choshi                   1\n",
       "Dos Caminos Soho               1\n",
       "La Follia                      1\n",
       "Philippe Chow                  1\n",
       "'wichcraft                     1\n",
       "Name: count, Length: 178, dtype: int64"
      ]
     },
     "execution_count": 14,
     "metadata": {},
     "output_type": "execute_result"
    }
   ],
   "source": [
    "df['restaurant_name'].value_counts()\n"
   ]
  },
  {
   "cell_type": "markdown",
   "id": "b7d3daaa",
   "metadata": {
    "id": "AX7b48zePNxN",
    "papermill": {
     "duration": 0.036607,
     "end_time": "2024-01-25T19:39:10.843491",
     "exception": false,
     "start_time": "2024-01-25T19:39:10.806884",
     "status": "completed"
    },
    "tags": []
   },
   "source": [
    "Observations:The restaurant that has received maximum number of orders is Shake Shack"
   ]
  },
  {
   "cell_type": "markdown",
   "id": "8240c37a",
   "metadata": {
    "id": "oqh4jda1PUL8",
    "papermill": {
     "duration": 0.036159,
     "end_time": "2024-01-25T19:39:10.916187",
     "exception": false,
     "start_time": "2024-01-25T19:39:10.880028",
     "status": "completed"
    },
    "tags": []
   },
   "source": [
    "**Cuisine type**"
   ]
  },
  {
   "cell_type": "code",
   "execution_count": 15,
   "id": "f4c51450",
   "metadata": {
    "execution": {
     "iopub.execute_input": "2024-01-25T19:39:10.993704Z",
     "iopub.status.busy": "2024-01-25T19:39:10.992714Z",
     "iopub.status.idle": "2024-01-25T19:39:11.335298Z",
     "shell.execute_reply": "2024-01-25T19:39:11.334071Z"
    },
    "id": "7dRTSjTrCmOV",
    "outputId": "c495460b-7898-4b1d-f7a3-023b4c6b922d",
    "papermill": {
     "duration": 0.385397,
     "end_time": "2024-01-25T19:39:11.338326",
     "exception": false,
     "start_time": "2024-01-25T19:39:10.952929",
     "status": "completed"
    },
    "tags": []
   },
   "outputs": [
    {
     "data": {
      "image/png": "[encoded data removed]",
      "text/plain": [
       "<Figure size 640x480 with 1 Axes>"
      ]
     },
     "metadata": {},
     "output_type": "display_data"
    }
   ],
   "source": [
    "sns.countplot(data=df, x='cuisine_type')  # Creates a countplot using Seaborn (sns) for the 'cuisine_type' column in the DataFrame (df)\n",
    "plt.xticks(rotation=90)  # Rotates the x-axis labels by 90 degrees for better readability\n",
    "plt.show()  # Displays the generated countplot"
   ]
  },
  {
   "cell_type": "markdown",
   "id": "ed55d177",
   "metadata": {
    "id": "um167Nn2C-pg",
    "papermill": {
     "duration": 0.037747,
     "end_time": "2024-01-25T19:39:11.413136",
     "exception": false,
     "start_time": "2024-01-25T19:39:11.375389",
     "status": "completed"
    },
    "tags": []
   },
   "source": [
    "Observations:\n",
    "There are 14 unique cuisines in the dataset.\n",
    "The distribution of cuisine types show that cuisine types are not equally distributed. The most frequent cuisine type is American followed by Japanese and Italian. Vietnamese appears to be the least popular of all the cuisines.\n"
   ]
  },
  {
   "cell_type": "markdown",
   "id": "f6dca1b5",
   "metadata": {
    "id": "I0T1Lh_XQd3b",
    "papermill": {
     "duration": 0.037103,
     "end_time": "2024-01-25T19:39:11.488042",
     "exception": false,
     "start_time": "2024-01-25T19:39:11.450939",
     "status": "completed"
    },
    "tags": []
   },
   "source": [
    "**Cost of the order**"
   ]
  },
  {
   "cell_type": "code",
   "execution_count": 16,
   "id": "566b3385",
   "metadata": {
    "execution": {
     "iopub.execute_input": "2024-01-25T19:39:11.565572Z",
     "iopub.status.busy": "2024-01-25T19:39:11.565036Z",
     "iopub.status.idle": "2024-01-25T19:39:12.127667Z",
     "shell.execute_reply": "2024-01-25T19:39:12.126332Z"
    },
    "id": "X9XvuSqbDD1W",
    "outputId": "9216d992-451f-40a1-9448-a5ad528a3014",
    "papermill": {
     "duration": 0.604868,
     "end_time": "2024-01-25T19:39:12.130687",
     "exception": false,
     "start_time": "2024-01-25T19:39:11.525819",
     "status": "completed"
    },
    "tags": []
   },
   "outputs": [
    {
     "data": {
      "image/png": "[encoded data removed]",
      "text/plain": [
       "<Figure size 640x480 with 1 Axes>"
      ]
     },
     "metadata": {},
     "output_type": "display_data"
    },
    {
     "data": {
      "image/png": "[encoded data removed]",
      "text/plain": [
       "<Figure size 640x480 with 1 Axes>"
      ]
     },
     "metadata": {},
     "output_type": "display_data"
    }
   ],
   "source": [
    "sns.histplot(data=df,x='cost_of_the_order')\n",
    "plt.show()\n",
    "sns.boxplot(data=df, x='cost_of_the_order')  # Generates a boxplot using Seaborn (sns) for the 'cost_of_the_order' column in the DataFrame (df)\n",
    "plt.show()"
   ]
  },
  {
   "cell_type": "markdown",
   "id": "21a5ca64",
   "metadata": {
    "id": "snvdHyhmAg5a",
    "papermill": {
     "duration": 0.039136,
     "end_time": "2024-01-25T19:39:12.208053",
     "exception": false,
     "start_time": "2024-01-25T19:39:12.168917",
     "status": "completed"
    },
    "tags": []
   },
   "source": []
  },
  {
   "cell_type": "markdown",
   "id": "63551302",
   "metadata": {
    "id": "mMQ6toHTDXrM",
    "papermill": {
     "duration": 0.037637,
     "end_time": "2024-01-25T19:39:12.284060",
     "exception": false,
     "start_time": "2024-01-25T19:39:12.246423",
     "status": "completed"
    },
    "tags": []
   },
   "source": [
    "Observations:There are no outliers, however it is clear from the box plot that data is skewed to the right"
   ]
  },
  {
   "cell_type": "markdown",
   "id": "209e2cb8",
   "metadata": {
    "id": "bYY8R88ZRQY_",
    "papermill": {
     "duration": 0.03909,
     "end_time": "2024-01-25T19:39:12.362644",
     "exception": false,
     "start_time": "2024-01-25T19:39:12.323554",
     "status": "completed"
    },
    "tags": []
   },
   "source": [
    "**Day of the week**"
   ]
  },
  {
   "cell_type": "code",
   "execution_count": 17,
   "id": "9a1176e1",
   "metadata": {
    "execution": {
     "iopub.execute_input": "2024-01-25T19:39:12.444308Z",
     "iopub.status.busy": "2024-01-25T19:39:12.443784Z",
     "iopub.status.idle": "2024-01-25T19:39:12.453265Z",
     "shell.execute_reply": "2024-01-25T19:39:12.452260Z"
    },
    "id": "AkF2skPCRVLo",
    "outputId": "54455b4a-a154-46fe-c5fe-55336c9776ed",
    "papermill": {
     "duration": 0.05366,
     "end_time": "2024-01-25T19:39:12.455855",
     "exception": false,
     "start_time": "2024-01-25T19:39:12.402195",
     "status": "completed"
    },
    "tags": []
   },
   "outputs": [
    {
     "data": {
      "text/plain": [
       "day_of_the_week\n",
       "Weekend    1351\n",
       "Weekday     547\n",
       "Name: count, dtype: int64"
      ]
     },
     "execution_count": 17,
     "metadata": {},
     "output_type": "execute_result"
    }
   ],
   "source": [
    "df['day_of_the_week'].value_counts()"
   ]
  },
  {
   "cell_type": "code",
   "execution_count": 18,
   "id": "4d32d4eb",
   "metadata": {
    "execution": {
     "iopub.execute_input": "2024-01-25T19:39:12.536103Z",
     "iopub.status.busy": "2024-01-25T19:39:12.535642Z",
     "iopub.status.idle": "2024-01-25T19:39:12.798238Z",
     "shell.execute_reply": "2024-01-25T19:39:12.796872Z"
    },
    "id": "vRMzUDLJRcvO",
    "outputId": "b9ed9b83-6b04-47de-f0ac-514159c06ba4",
    "papermill": {
     "duration": 0.306866,
     "end_time": "2024-01-25T19:39:12.801131",
     "exception": false,
     "start_time": "2024-01-25T19:39:12.494265",
     "status": "completed"
    },
    "tags": []
   },
   "outputs": [
    {
     "data": {
      "text/plain": [
       "<Axes: xlabel='day_of_the_week', ylabel='count'>"
      ]
     },
     "execution_count": 18,
     "metadata": {},
     "output_type": "execute_result"
    },
    {
     "data": {
      "image/png": "[encoded data removed]",
      "text/plain": [
       "<Figure size 640x480 with 1 Axes>"
      ]
     },
     "metadata": {},
     "output_type": "display_data"
    }
   ],
   "source": [
    "sns.countplot(data = df, x = 'day_of_the_week')"
   ]
  },
  {
   "cell_type": "markdown",
   "id": "0f2f8daa",
   "metadata": {
    "id": "Nc6vtTVsRiOw",
    "papermill": {
     "duration": 0.03885,
     "end_time": "2024-01-25T19:39:12.879936",
     "exception": false,
     "start_time": "2024-01-25T19:39:12.841086",
     "status": "completed"
    },
    "tags": []
   },
   "source": [
    "Observations:The 'day_of_the_week' columns consists of 2 unique values - Weekday and Weekend\n",
    "The distribution shows that number of order placed on weekends is approximately double the number of orders placed on weekdays."
   ]
  },
  {
   "cell_type": "markdown",
   "id": "06e64684",
   "metadata": {
    "id": "ZVVhI3pYRm3V",
    "papermill": {
     "duration": 0.039917,
     "end_time": "2024-01-25T19:39:12.960403",
     "exception": false,
     "start_time": "2024-01-25T19:39:12.920486",
     "status": "completed"
    },
    "tags": []
   },
   "source": [
    "**Rating**"
   ]
  },
  {
   "cell_type": "code",
   "execution_count": 19,
   "id": "9405c0a5",
   "metadata": {
    "execution": {
     "iopub.execute_input": "2024-01-25T19:39:13.041135Z",
     "iopub.status.busy": "2024-01-25T19:39:13.040659Z",
     "iopub.status.idle": "2024-01-25T19:39:13.300130Z",
     "shell.execute_reply": "2024-01-25T19:39:13.298781Z"
    },
    "id": "S5cXRuqaDcYe",
    "outputId": "b6a05cc9-21cd-4b18-b17d-612d840b3df4",
    "papermill": {
     "duration": 0.303455,
     "end_time": "2024-01-25T19:39:13.303300",
     "exception": false,
     "start_time": "2024-01-25T19:39:12.999845",
     "status": "completed"
    },
    "tags": []
   },
   "outputs": [
    {
     "data": {
      "image/png": "[encoded data removed]",
      "text/plain": [
       "<Figure size 640x480 with 1 Axes>"
      ]
     },
     "metadata": {},
     "output_type": "display_data"
    }
   ],
   "source": [
    "sns.countplot(data=df, x='rating')  # Creates a countplot using Seaborn (sns) for the 'rating' column in the DataFrame (df)\n",
    "plt.xticks(rotation=90)  # Rotates the x-axis labels by 90 degrees for better readability\n",
    "plt.show()  # Displays the generated countplot\n"
   ]
  },
  {
   "cell_type": "markdown",
   "id": "e1029877",
   "metadata": {
    "id": "XH6-6HTpDlfY",
    "papermill": {
     "duration": 0.038842,
     "end_time": "2024-01-25T19:39:13.382405",
     "exception": false,
     "start_time": "2024-01-25T19:39:13.343563",
     "status": "completed"
    },
    "tags": []
   },
   "source": [
    "Observations : It seems that most of the customers did not give rating where it amounts to more than 700, followed by almost 600 customers did value the service to me 5 and about 400 customers give rank 4 while only 200 customers give a rank of 3.\n",
    "The distribution of 'rating' shows that the most frequent rating category is 'not given', followed by a rating of 5.\n",
    "Only around 200 orders have been rated 3."
   ]
  },
  {
   "cell_type": "markdown",
   "id": "991aa0c6",
   "metadata": {
    "id": "zlX1DlMjSCd2",
    "papermill": {
     "duration": 0.039806,
     "end_time": "2024-01-25T19:39:13.461742",
     "exception": false,
     "start_time": "2024-01-25T19:39:13.421936",
     "status": "completed"
    },
    "tags": []
   },
   "source": [
    "**Food Preparation time**"
   ]
  },
  {
   "cell_type": "code",
   "execution_count": 20,
   "id": "1a2c232f",
   "metadata": {
    "execution": {
     "iopub.execute_input": "2024-01-25T19:39:13.543926Z",
     "iopub.status.busy": "2024-01-25T19:39:13.543427Z",
     "iopub.status.idle": "2024-01-25T19:39:14.096004Z",
     "shell.execute_reply": "2024-01-25T19:39:14.094368Z"
    },
    "id": "EBbMW3HODoU4",
    "outputId": "c2a81bcc-148f-4ed3-9f33-9da36c3ca7e7",
    "papermill": {
     "duration": 0.598086,
     "end_time": "2024-01-25T19:39:14.099341",
     "exception": false,
     "start_time": "2024-01-25T19:39:13.501255",
     "status": "completed"
    },
    "tags": []
   },
   "outputs": [
    {
     "data": {
      "image/png": "[encoded data removed]",
      "text/plain": [
       "<Figure size 640x480 with 1 Axes>"
      ]
     },
     "metadata": {},
     "output_type": "display_data"
    },
    {
     "data": {
      "image/png": "[encoded data removed]",
      "text/plain": [
       "<Figure size 640x480 with 1 Axes>"
      ]
     },
     "metadata": {},
     "output_type": "display_data"
    }
   ],
   "source": [
    "sns.histplot(data=df,x='food_preparation_time')\n",
    "plt.show()\n",
    "sns.boxplot(data=df,x='food_preparation_time')\n",
    "plt.show()"
   ]
  },
  {
   "cell_type": "markdown",
   "id": "f56f9ee2",
   "metadata": {
    "id": "gdZJrdj_DtFc",
    "papermill": {
     "duration": 0.040131,
     "end_time": "2024-01-25T19:39:14.181427",
     "exception": false,
     "start_time": "2024-01-25T19:39:14.141296",
     "status": "completed"
    },
    "tags": []
   },
   "source": [
    "Observations:The average food preparation time is almost equal to the median food preparation time indicating that the distribution is nearly symmetrical.\n",
    "The food preparation time is pretty evenly distributed between 20 and 35 minutes.\n",
    "There are no outliers in this column.\n"
   ]
  },
  {
   "cell_type": "markdown",
   "id": "54850ebd",
   "metadata": {
    "id": "L9qsNJNJSqgI",
    "papermill": {
     "duration": 0.040641,
     "end_time": "2024-01-25T19:39:14.264131",
     "exception": false,
     "start_time": "2024-01-25T19:39:14.223490",
     "status": "completed"
    },
    "tags": []
   },
   "source": [
    "**Delivery time**"
   ]
  },
  {
   "cell_type": "code",
   "execution_count": 21,
   "id": "a497d131",
   "metadata": {
    "execution": {
     "iopub.execute_input": "2024-01-25T19:39:14.347366Z",
     "iopub.status.busy": "2024-01-25T19:39:14.346136Z",
     "iopub.status.idle": "2024-01-25T19:39:14.895087Z",
     "shell.execute_reply": "2024-01-25T19:39:14.893758Z"
    },
    "id": "xG5b-Mw1D6TY",
    "outputId": "bce23813-4cc9-46c1-bfdd-db39677e7ff1",
    "papermill": {
     "duration": 0.594129,
     "end_time": "2024-01-25T19:39:14.898071",
     "exception": false,
     "start_time": "2024-01-25T19:39:14.303942",
     "status": "completed"
    },
    "tags": []
   },
   "outputs": [
    {
     "data": {
      "image/png": "[encoded data removed]",
      "text/plain": [
       "<Figure size 640x480 with 1 Axes>"
      ]
     },
     "metadata": {},
     "output_type": "display_data"
    },
    {
     "data": {
      "image/png": "[encoded data removed]",
      "text/plain": [
       "<Figure size 640x480 with 1 Axes>"
      ]
     },
     "metadata": {},
     "output_type": "display_data"
    }
   ],
   "source": [
    "sns.histplot(data=df,x='delivery_time')\n",
    "plt.show()\n",
    "sns.boxplot(data=df,x='delivery_time')\n",
    "plt.show()"
   ]
  },
  {
   "cell_type": "markdown",
   "id": "727210b8",
   "metadata": {
    "id": "SMOd6doRS3sC",
    "papermill": {
     "duration": 0.041417,
     "end_time": "2024-01-25T19:39:14.979976",
     "exception": false,
     "start_time": "2024-01-25T19:39:14.938559",
     "status": "completed"
    },
    "tags": []
   },
   "source": [
    "Observations:The average delivery time is a bit smaller than the median delivery time indicating that the distribution is a bit left-skewed.\n",
    "Comparatively more number of orders have delivery time between 24 and 30 minutes.\n",
    "There are no outliers in this column."
   ]
  },
  {
   "cell_type": "markdown",
   "id": "25ddf8ae",
   "metadata": {
    "id": "K9CqA5H_JY_U",
    "papermill": {
     "duration": 0.041268,
     "end_time": "2024-01-25T19:39:15.065522",
     "exception": false,
     "start_time": "2024-01-25T19:39:15.024254",
     "status": "completed"
    },
    "tags": []
   },
   "source": [
    "### **Question 7**: Which are the top 5 restaurants in terms of the number of orders received? [1 mark]"
   ]
  },
  {
   "cell_type": "code",
   "execution_count": 22,
   "id": "5adb569e",
   "metadata": {
    "execution": {
     "iopub.execute_input": "2024-01-25T19:39:15.150026Z",
     "iopub.status.busy": "2024-01-25T19:39:15.149572Z",
     "iopub.status.idle": "2024-01-25T19:39:15.160875Z",
     "shell.execute_reply": "2024-01-25T19:39:15.159444Z"
    },
    "id": "PaJZ3wlOJY_U",
    "outputId": "77445f06-a45c-4475-b56d-414c9b3c5368",
    "papermill": {
     "duration": 0.056735,
     "end_time": "2024-01-25T19:39:15.163912",
     "exception": false,
     "start_time": "2024-01-25T19:39:15.107177",
     "status": "completed"
    },
    "tags": []
   },
   "outputs": [
    {
     "data": {
      "text/plain": [
       "restaurant_name\n",
       "Shake Shack                  219\n",
       "The Meatball Shop            132\n",
       "Blue Ribbon Sushi            119\n",
       "Blue Ribbon Fried Chicken     96\n",
       "Parm                          68\n",
       "Name: count, dtype: int64"
      ]
     },
     "execution_count": 22,
     "metadata": {},
     "output_type": "execute_result"
    }
   ],
   "source": [
    "# Write the code here\n",
    "df['restaurant_name'].value_counts()[:5]"
   ]
  },
  {
   "cell_type": "markdown",
   "id": "ebad5891",
   "metadata": {
    "id": "tnjhWgUfJY_U",
    "papermill": {
     "duration": 0.040942,
     "end_time": "2024-01-25T19:39:15.247997",
     "exception": false,
     "start_time": "2024-01-25T19:39:15.207055",
     "status": "completed"
    },
    "tags": []
   },
   "source": [
    "#### Observations:FTop 5 popular restaurants that have received the highest number of orders 'Shake Shack', 'The Meatball Shop', 'Blue Ribbon Sushi', 'Blue Ribbon Fried Chicken' and 'Parm'.\n",
    "\n"
   ]
  },
  {
   "cell_type": "markdown",
   "id": "b1354ca6",
   "metadata": {
    "id": "gWPMqGq0JY_U",
    "papermill": {
     "duration": 0.040405,
     "end_time": "2024-01-25T19:39:15.329623",
     "exception": false,
     "start_time": "2024-01-25T19:39:15.289218",
     "status": "completed"
    },
    "tags": []
   },
   "source": [
    "### **Question 8**: Which is the most popular cuisine on weekends? [1 mark]"
   ]
  },
  {
   "cell_type": "code",
   "execution_count": 23,
   "id": "80846318",
   "metadata": {
    "execution": {
     "iopub.execute_input": "2024-01-25T19:39:15.415455Z",
     "iopub.status.busy": "2024-01-25T19:39:15.414938Z",
     "iopub.status.idle": "2024-01-25T19:39:15.423443Z",
     "shell.execute_reply": "2024-01-25T19:39:15.422207Z"
    },
    "id": "c-Xnus3VJY_U",
    "outputId": "df7c6ff3-cf85-44d1-eca3-f7091ff0f01b",
    "papermill": {
     "duration": 0.054708,
     "end_time": "2024-01-25T19:39:15.426055",
     "exception": false,
     "start_time": "2024-01-25T19:39:15.371347",
     "status": "completed"
    },
    "tags": []
   },
   "outputs": [
    {
     "data": {
      "text/plain": [
       "array(['Weekend', 'Weekday'], dtype=object)"
      ]
     },
     "execution_count": 23,
     "metadata": {},
     "output_type": "execute_result"
    }
   ],
   "source": [
    "# Write the code here\n",
    "df['day_of_the_week'].unique()  # Retrieves an array containing the unique values present in the 'day_of_the_week' column of the DataFrame (df)\n"
   ]
  },
  {
   "cell_type": "code",
   "execution_count": 24,
   "id": "c3197bde",
   "metadata": {
    "execution": {
     "iopub.execute_input": "2024-01-25T19:39:15.511053Z",
     "iopub.status.busy": "2024-01-25T19:39:15.510553Z",
     "iopub.status.idle": "2024-01-25T19:39:15.524454Z",
     "shell.execute_reply": "2024-01-25T19:39:15.523124Z"
    },
    "id": "tjzpDfRNEpO-",
    "outputId": "f4d49a32-a174-43c4-eeae-0fd76223dde1",
    "papermill": {
     "duration": 0.059452,
     "end_time": "2024-01-25T19:39:15.527174",
     "exception": false,
     "start_time": "2024-01-25T19:39:15.467722",
     "status": "completed"
    },
    "tags": []
   },
   "outputs": [
    {
     "data": {
      "text/plain": [
       "cuisine_type\n",
       "American          415\n",
       "Japanese          335\n",
       "Italian           207\n",
       "Chinese           163\n",
       "Mexican            53\n",
       "Indian             49\n",
       "Mediterranean      32\n",
       "Middle Eastern     32\n",
       "Thai               15\n",
       "French             13\n",
       "Korean             11\n",
       "Southern           11\n",
       "Spanish            11\n",
       "Vietnamese          4\n",
       "Name: count, dtype: int64"
      ]
     },
     "execution_count": 24,
     "metadata": {},
     "output_type": "execute_result"
    }
   ],
   "source": [
    "df['cuisine_type'].unique()  # Fetches an array containing the unique values found in the 'cuisine_type' column of the DataFrame (df)\n",
    "df_weekend = df[df['day_of_the_week'] == 'Weekend']\n",
    "df_weekend['cuisine_type'].value_counts()"
   ]
  },
  {
   "cell_type": "code",
   "execution_count": 25,
   "id": "bcccff7b",
   "metadata": {
    "execution": {
     "iopub.execute_input": "2024-01-25T19:39:15.614116Z",
     "iopub.status.busy": "2024-01-25T19:39:15.612649Z",
     "iopub.status.idle": "2024-01-25T19:39:16.176430Z",
     "shell.execute_reply": "2024-01-25T19:39:16.174998Z"
    },
    "id": "EzVZqy3pE8sE",
    "outputId": "436d2332-ed6e-4d9a-b085-d95faca73eb2",
    "papermill": {
     "duration": 0.610163,
     "end_time": "2024-01-25T19:39:16.179453",
     "exception": false,
     "start_time": "2024-01-25T19:39:15.569290",
     "status": "completed"
    },
    "tags": []
   },
   "outputs": [
    {
     "data": {
      "text/plain": [
       "<Axes: xlabel='cuisine_type', ylabel='count'>"
      ]
     },
     "execution_count": 25,
     "metadata": {},
     "output_type": "execute_result"
    },
    {
     "data": {
      "image/png": "[encoded data removed]",
      "text/plain": [
       "<Figure size 2000x700 with 1 Axes>"
      ]
     },
     "metadata": {},
     "output_type": "display_data"
    }
   ],
   "source": [
    "plt.figure(figsize=(20, 7))  # Sets the size of the figure for visualization to 20 units in width and 7 units in height\n",
    "\n",
    "sns.countplot(data=df, x='cuisine_type', hue='day_of_the_week')  # Creates a countplot using Seaborn (sns) to display the count of 'cuisine_type' categories, segmented by 'day_of_the_week'\n",
    "\n"
   ]
  },
  {
   "cell_type": "markdown",
   "id": "47a9f035",
   "metadata": {
    "id": "bpQ270TUJY_U",
    "papermill": {
     "duration": 0.041571,
     "end_time": "2024-01-25T19:39:16.265034",
     "exception": false,
     "start_time": "2024-01-25T19:39:16.223463",
     "status": "completed"
    },
    "tags": []
   },
   "source": [
    "#### Observations:The most popular cuisine type on the week end is American.\n"
   ]
  },
  {
   "cell_type": "markdown",
   "id": "ae817730",
   "metadata": {
    "id": "88xgTqkxJY_U",
    "papermill": {
     "duration": 0.041139,
     "end_time": "2024-01-25T19:39:16.348031",
     "exception": false,
     "start_time": "2024-01-25T19:39:16.306892",
     "status": "completed"
    },
    "tags": []
   },
   "source": [
    "### **Question 9**: What percentage of the orders cost more than 20 dollars? [2 marks]"
   ]
  },
  {
   "cell_type": "code",
   "execution_count": 26,
   "id": "19e1104c",
   "metadata": {
    "execution": {
     "iopub.execute_input": "2024-01-25T19:39:16.438427Z",
     "iopub.status.busy": "2024-01-25T19:39:16.437464Z",
     "iopub.status.idle": "2024-01-25T19:39:16.452316Z",
     "shell.execute_reply": "2024-01-25T19:39:16.451079Z"
    },
    "id": "OTpHyTdzJY_U",
    "outputId": "0f41bcb3-95d7-4025-d41d-2234525e093f",
    "papermill": {
     "duration": 0.063202,
     "end_time": "2024-01-25T19:39:16.455369",
     "exception": false,
     "start_time": "2024-01-25T19:39:16.392167",
     "status": "completed"
    },
    "tags": []
   },
   "outputs": [
    {
     "name": "stdout",
     "output_type": "stream",
     "text": [
      "The number of total orders that cost above 20 dollars is: 555\n",
      "Percentage of orders above 20 dollars: 29.24 %\n"
     ]
    },
    {
     "data": {
      "text/plain": [
       "29.24"
      ]
     },
     "execution_count": 26,
     "metadata": {},
     "output_type": "execute_result"
    }
   ],
   "source": [
    "# Write the code here\n",
    "total_observations = df['cost_of_the_order'].count() # Counts the total number of observations or entries in the 'cost_of_the_order' column of the DataFrame (df)\n",
    "orders_above20 = df['cost_of_the_order'][df['cost_of_the_order']> 20].count() # Counts the number of entries in 'cost_of_the_order' column where the value is greater than 20\n",
    "# Get orders that cost above 20 dollars\n",
    "df_greater_than_20 = df[df['cost_of_the_order'] > 20]\n",
    "# Calculate the number of total orders where the cost is above 20 dollars\n",
    "print('The number of total orders that cost above 20 dollars is:', df_greater_than_20.shape[0])\n",
    "# Calculate percentage of such orders in the dataset\n",
    "percentage = (df_greater_than_20.shape[0] / df.shape[0]) * 100\n",
    "print(\"Percentage of orders above 20 dollars:\", round(percentage, 2), '%')\n",
    "percentage_above20 = round((orders_above20/total_observations)*100,2) # Calculates the percentage of orders with cost above 20\n",
    "percentage_above20"
   ]
  },
  {
   "cell_type": "markdown",
   "id": "5fff4b34",
   "metadata": {
    "id": "77KNAC5zJY_U",
    "papermill": {
     "duration": 0.041995,
     "end_time": "2024-01-25T19:39:16.539997",
     "exception": false,
     "start_time": "2024-01-25T19:39:16.498002",
     "status": "completed"
    },
    "tags": []
   },
   "source": [
    "#### Observations:there are about 555 order whose prices are above 20 which represents 555out of 1898 of total orders which represents about 29%\n"
   ]
  },
  {
   "cell_type": "markdown",
   "id": "e1102da6",
   "metadata": {
    "id": "HFyHn7hsJY_V",
    "papermill": {
     "duration": 0.042652,
     "end_time": "2024-01-25T19:39:16.627574",
     "exception": false,
     "start_time": "2024-01-25T19:39:16.584922",
     "status": "completed"
    },
    "tags": []
   },
   "source": [
    "### **Question 10**: What is the mean order delivery time? [1 mark]"
   ]
  },
  {
   "cell_type": "code",
   "execution_count": 27,
   "id": "e093ca75",
   "metadata": {
    "execution": {
     "iopub.execute_input": "2024-01-25T19:39:16.715013Z",
     "iopub.status.busy": "2024-01-25T19:39:16.714263Z",
     "iopub.status.idle": "2024-01-25T19:39:16.746833Z",
     "shell.execute_reply": "2024-01-25T19:39:16.745244Z"
    },
    "id": "cyFL13hNJY_V",
    "outputId": "0338a2f3-64bc-4a1a-c115-ed01e7aecb68",
    "papermill": {
     "duration": 0.079759,
     "end_time": "2024-01-25T19:39:16.749830",
     "exception": false,
     "start_time": "2024-01-25T19:39:16.670071",
     "status": "completed"
    },
    "tags": []
   },
   "outputs": [
    {
     "data": {
      "text/html": [
       "<div>\n",
       "<style scoped>\n",
       "    .dataframe tbody tr th:only-of-type {\n",
       "        vertical-align: middle;\n",
       "    }\n",
       "\n",
       "    .dataframe tbody tr th {\n",
       "        vertical-align: top;\n",
       "    }\n",
       "\n",
       "    .dataframe thead th {\n",
       "        text-align: right;\n",
       "    }\n",
       "</style>\n",
       "<table border=\"1\" class=\"dataframe\">\n",
       "  <thead>\n",
       "    <tr style=\"text-align: right;\">\n",
       "      <th></th>\n",
       "      <th>count</th>\n",
       "      <th>mean</th>\n",
       "      <th>std</th>\n",
       "      <th>min</th>\n",
       "      <th>25%</th>\n",
       "      <th>50%</th>\n",
       "      <th>75%</th>\n",
       "      <th>max</th>\n",
       "    </tr>\n",
       "  </thead>\n",
       "  <tbody>\n",
       "    <tr>\n",
       "      <th>order_id</th>\n",
       "      <td>1898.0</td>\n",
       "      <td>1.477496e+06</td>\n",
       "      <td>548.049724</td>\n",
       "      <td>1476547.00</td>\n",
       "      <td>1477021.25</td>\n",
       "      <td>1477495.50</td>\n",
       "      <td>1.477970e+06</td>\n",
       "      <td>1478444.00</td>\n",
       "    </tr>\n",
       "    <tr>\n",
       "      <th>customer_id</th>\n",
       "      <td>1898.0</td>\n",
       "      <td>1.711685e+05</td>\n",
       "      <td>113698.139743</td>\n",
       "      <td>1311.00</td>\n",
       "      <td>77787.75</td>\n",
       "      <td>128600.00</td>\n",
       "      <td>2.705250e+05</td>\n",
       "      <td>405334.00</td>\n",
       "    </tr>\n",
       "    <tr>\n",
       "      <th>cost_of_the_order</th>\n",
       "      <td>1898.0</td>\n",
       "      <td>1.649885e+01</td>\n",
       "      <td>7.483812</td>\n",
       "      <td>4.47</td>\n",
       "      <td>12.08</td>\n",
       "      <td>14.14</td>\n",
       "      <td>2.229750e+01</td>\n",
       "      <td>35.41</td>\n",
       "    </tr>\n",
       "    <tr>\n",
       "      <th>food_preparation_time</th>\n",
       "      <td>1898.0</td>\n",
       "      <td>2.737197e+01</td>\n",
       "      <td>4.632481</td>\n",
       "      <td>20.00</td>\n",
       "      <td>23.00</td>\n",
       "      <td>27.00</td>\n",
       "      <td>3.100000e+01</td>\n",
       "      <td>35.00</td>\n",
       "    </tr>\n",
       "    <tr>\n",
       "      <th>delivery_time</th>\n",
       "      <td>1898.0</td>\n",
       "      <td>2.416175e+01</td>\n",
       "      <td>4.972637</td>\n",
       "      <td>15.00</td>\n",
       "      <td>20.00</td>\n",
       "      <td>25.00</td>\n",
       "      <td>2.800000e+01</td>\n",
       "      <td>33.00</td>\n",
       "    </tr>\n",
       "  </tbody>\n",
       "</table>\n",
       "</div>"
      ],
      "text/plain": [
       "                        count          mean            std         min  \\\n",
       "order_id               1898.0  1.477496e+06     548.049724  1476547.00   \n",
       "customer_id            1898.0  1.711685e+05  113698.139743     1311.00   \n",
       "cost_of_the_order      1898.0  1.649885e+01       7.483812        4.47   \n",
       "food_preparation_time  1898.0  2.737197e+01       4.632481       20.00   \n",
       "delivery_time          1898.0  2.416175e+01       4.972637       15.00   \n",
       "\n",
       "                              25%         50%           75%         max  \n",
       "order_id               1477021.25  1477495.50  1.477970e+06  1478444.00  \n",
       "customer_id              77787.75   128600.00  2.705250e+05   405334.00  \n",
       "cost_of_the_order           12.08       14.14  2.229750e+01       35.41  \n",
       "food_preparation_time       23.00       27.00  3.100000e+01       35.00  \n",
       "delivery_time               20.00       25.00  2.800000e+01       33.00  "
      ]
     },
     "execution_count": 27,
     "metadata": {},
     "output_type": "execute_result"
    }
   ],
   "source": [
    "# Write the code here\n",
    "df.describe().T #statistical summary of the DataFrame\n",
    "\n"
   ]
  },
  {
   "cell_type": "code",
   "execution_count": 28,
   "id": "731e65b0",
   "metadata": {
    "execution": {
     "iopub.execute_input": "2024-01-25T19:39:16.839768Z",
     "iopub.status.busy": "2024-01-25T19:39:16.838928Z",
     "iopub.status.idle": "2024-01-25T19:39:16.845995Z",
     "shell.execute_reply": "2024-01-25T19:39:16.845099Z"
    },
    "id": "zAWxXJUcVgpk",
    "outputId": "16922ff6-9ba8-4143-a7f1-4d109f18ff09",
    "papermill": {
     "duration": 0.055462,
     "end_time": "2024-01-25T19:39:16.848461",
     "exception": false,
     "start_time": "2024-01-25T19:39:16.792999",
     "status": "completed"
    },
    "tags": []
   },
   "outputs": [
    {
     "name": "stdout",
     "output_type": "stream",
     "text": [
      "The mean delivery time for this dataset is 24.16 minutes\n"
     ]
    }
   ],
   "source": [
    "# get the mean delivery time\n",
    "print('The mean delivery time for this dataset is', round(df['delivery_time'].mean(), 2), 'minutes')"
   ]
  },
  {
   "cell_type": "markdown",
   "id": "7d3b4ddb",
   "metadata": {
    "id": "F35SRV-HJY_V",
    "papermill": {
     "duration": 0.042988,
     "end_time": "2024-01-25T19:39:16.935651",
     "exception": false,
     "start_time": "2024-01-25T19:39:16.892663",
     "status": "completed"
    },
    "tags": []
   },
   "source": [
    "#### Observations:mean delivery time is approximately about 24.16 minutes\n"
   ]
  },
  {
   "cell_type": "markdown",
   "id": "8064ba78",
   "metadata": {
    "id": "48IjaOuDJY_V",
    "papermill": {
     "duration": 0.043783,
     "end_time": "2024-01-25T19:39:17.023147",
     "exception": false,
     "start_time": "2024-01-25T19:39:16.979364",
     "status": "completed"
    },
    "tags": []
   },
   "source": [
    "### **Question 11:** The company has decided to give 20% discount vouchers to the top 3 most frequent customers. Find the IDs of these customers and the number of orders they placed. [1 mark]"
   ]
  },
  {
   "cell_type": "code",
   "execution_count": 29,
   "id": "49aa7c21",
   "metadata": {
    "execution": {
     "iopub.execute_input": "2024-01-25T19:39:17.112448Z",
     "iopub.status.busy": "2024-01-25T19:39:17.111596Z",
     "iopub.status.idle": "2024-01-25T19:39:17.122134Z",
     "shell.execute_reply": "2024-01-25T19:39:17.121301Z"
    },
    "id": "Hz8-DE4Zge0j",
    "outputId": "da98a20e-ceaa-47d0-a690-0ea044b79595",
    "papermill": {
     "duration": 0.057938,
     "end_time": "2024-01-25T19:39:17.124293",
     "exception": false,
     "start_time": "2024-01-25T19:39:17.066355",
     "status": "completed"
    },
    "tags": []
   },
   "outputs": [
    {
     "data": {
      "text/plain": [
       "array([337525, 358141,  66393, ...,  97838, 292602, 397537])"
      ]
     },
     "execution_count": 29,
     "metadata": {},
     "output_type": "execute_result"
    }
   ],
   "source": [
    "# Write the code here\n",
    "df['customer_id'].unique()"
   ]
  },
  {
   "cell_type": "code",
   "execution_count": 30,
   "id": "0042438f",
   "metadata": {
    "execution": {
     "iopub.execute_input": "2024-01-25T19:39:17.214116Z",
     "iopub.status.busy": "2024-01-25T19:39:17.213616Z",
     "iopub.status.idle": "2024-01-25T19:39:17.222053Z",
     "shell.execute_reply": "2024-01-25T19:39:17.221077Z"
    },
    "id": "lxUsY1ESF42R",
    "outputId": "0f202793-c685-4123-c9ef-04dc90784724",
    "papermill": {
     "duration": 0.05711,
     "end_time": "2024-01-25T19:39:17.224761",
     "exception": false,
     "start_time": "2024-01-25T19:39:17.167651",
     "status": "completed"
    },
    "tags": []
   },
   "outputs": [
    {
     "data": {
      "text/plain": [
       "1200"
      ]
     },
     "execution_count": 30,
     "metadata": {},
     "output_type": "execute_result"
    }
   ],
   "source": [
    "df['customer_id'].nunique()"
   ]
  },
  {
   "cell_type": "code",
   "execution_count": 31,
   "id": "6ddb216b",
   "metadata": {
    "execution": {
     "iopub.execute_input": "2024-01-25T19:39:17.314203Z",
     "iopub.status.busy": "2024-01-25T19:39:17.313387Z",
     "iopub.status.idle": "2024-01-25T19:39:17.323889Z",
     "shell.execute_reply": "2024-01-25T19:39:17.322599Z"
    },
    "id": "OGDTziZVF8wc",
    "outputId": "a188acdf-cee9-453b-d254-4546c75c827a",
    "papermill": {
     "duration": 0.058431,
     "end_time": "2024-01-25T19:39:17.326437",
     "exception": false,
     "start_time": "2024-01-25T19:39:17.268006",
     "status": "completed"
    },
    "tags": []
   },
   "outputs": [
    {
     "data": {
      "text/plain": [
       "customer_id\n",
       "52832     0.006849\n",
       "47440     0.005269\n",
       "83287     0.004742\n",
       "250494    0.004215\n",
       "259341    0.003688\n",
       "            ...   \n",
       "385426    0.000527\n",
       "254913    0.000527\n",
       "289597    0.000527\n",
       "74412     0.000527\n",
       "397537    0.000527\n",
       "Name: proportion, Length: 1200, dtype: float64"
      ]
     },
     "execution_count": 31,
     "metadata": {},
     "output_type": "execute_result"
    }
   ],
   "source": [
    "df['customer_id'].value_counts(normalize=True)"
   ]
  },
  {
   "cell_type": "code",
   "execution_count": 32,
   "id": "156297ef",
   "metadata": {
    "execution": {
     "iopub.execute_input": "2024-01-25T19:39:17.415786Z",
     "iopub.status.busy": "2024-01-25T19:39:17.414880Z",
     "iopub.status.idle": "2024-01-25T19:39:17.423980Z",
     "shell.execute_reply": "2024-01-25T19:39:17.422896Z"
    },
    "id": "4PsClx5NWCOc",
    "outputId": "92e65e69-9e1a-4c13-bc4a-27c546cbfdb4",
    "papermill": {
     "duration": 0.057336,
     "end_time": "2024-01-25T19:39:17.426845",
     "exception": false,
     "start_time": "2024-01-25T19:39:17.369509",
     "status": "completed"
    },
    "tags": []
   },
   "outputs": [
    {
     "data": {
      "text/plain": [
       "customer_id\n",
       "52832    13\n",
       "47440    10\n",
       "83287     9\n",
       "Name: count, dtype: int64"
      ]
     },
     "execution_count": 32,
     "metadata": {},
     "output_type": "execute_result"
    }
   ],
   "source": [
    "df['customer_id'].value_counts().head(3)"
   ]
  },
  {
   "cell_type": "markdown",
   "id": "d37b137f",
   "metadata": {
    "id": "2oqICjrfV0Mg",
    "papermill": {
     "duration": 0.043591,
     "end_time": "2024-01-25T19:39:17.514783",
     "exception": false,
     "start_time": "2024-01-25T19:39:17.471192",
     "status": "completed"
    },
    "tags": []
   },
   "source": []
  },
  {
   "cell_type": "markdown",
   "id": "e0970c1c",
   "metadata": {
    "id": "9tWVwfX6JY_V",
    "papermill": {
     "duration": 0.044713,
     "end_time": "2024-01-25T19:39:17.603086",
     "exception": false,
     "start_time": "2024-01-25T19:39:17.558373",
     "status": "completed"
    },
    "tags": []
   },
   "source": [
    "#### Observations:The top 3 most frequent customers are customers no.52832 who ordered 0.6% (13 times)of total orders followed by customer no.47440 who ordered 0.5% of total orders , while come at 3rd place customer no. 83287 who ordered 0.4742% of orders.\n"
   ]
  },
  {
   "cell_type": "markdown",
   "id": "f4566fd5",
   "metadata": {
    "id": "AfIc2jPaJY_V",
    "papermill": {
     "duration": 0.042612,
     "end_time": "2024-01-25T19:39:17.689522",
     "exception": false,
     "start_time": "2024-01-25T19:39:17.646910",
     "status": "completed"
    },
    "tags": []
   },
   "source": [
    "### Multivariate Analysis"
   ]
  },
  {
   "cell_type": "markdown",
   "id": "7e36f3ad",
   "metadata": {
    "id": "iqiS0RT_JY_V",
    "papermill": {
     "duration": 0.043649,
     "end_time": "2024-01-25T19:39:17.776135",
     "exception": false,
     "start_time": "2024-01-25T19:39:17.732486",
     "status": "completed"
    },
    "tags": []
   },
   "source": [
    "### **Question 12**: Perform a multivariate analysis to explore relationships between the important variables in the dataset. (It is a good idea to explore relations between numerical variables as well as relations between numerical and categorical variables) [10 marks]\n"
   ]
  },
  {
   "cell_type": "markdown",
   "id": "6058e4f3",
   "metadata": {
    "id": "x2DXQgD5WxH3",
    "papermill": {
     "duration": 0.045101,
     "end_time": "2024-01-25T19:39:17.865399",
     "exception": false,
     "start_time": "2024-01-25T19:39:17.820298",
     "status": "completed"
    },
    "tags": []
   },
   "source": [
    "**Cuisine vs Cost of the order**"
   ]
  },
  {
   "cell_type": "code",
   "execution_count": 33,
   "id": "7f8f7fdb",
   "metadata": {
    "execution": {
     "iopub.execute_input": "2024-01-25T19:39:17.958330Z",
     "iopub.status.busy": "2024-01-25T19:39:17.957387Z",
     "iopub.status.idle": "2024-01-25T19:39:18.445705Z",
     "shell.execute_reply": "2024-01-25T19:39:18.444394Z"
    },
    "id": "SlvoKE3uWaaF",
    "outputId": "41d9e04a-dd0f-4be8-ddc3-66c9f1d14cb1",
    "papermill": {
     "duration": 0.537206,
     "end_time": "2024-01-25T19:39:18.448432",
     "exception": false,
     "start_time": "2024-01-25T19:39:17.911226",
     "status": "completed"
    },
    "tags": []
   },
   "outputs": [
    {
     "data": {
      "image/png": "[encoded data removed]",
      "text/plain": [
       "<Figure size 1500x700 with 1 Axes>"
      ]
     },
     "metadata": {},
     "output_type": "display_data"
    }
   ],
   "source": [
    "plt.figure(figsize=(15,7))\n",
    "sns.boxplot(x = \"cuisine_type\", y = \"cost_of_the_order\", data = df, palette = 'PuBu')\n",
    "plt.xticks(rotation = 60)\n",
    "plt.show()"
   ]
  },
  {
   "cell_type": "markdown",
   "id": "0f1097c2",
   "metadata": {
    "id": "fzrWNRuxXB_d",
    "papermill": {
     "duration": 0.04338,
     "end_time": "2024-01-25T19:39:18.536080",
     "exception": false,
     "start_time": "2024-01-25T19:39:18.492700",
     "status": "completed"
    },
    "tags": []
   },
   "source": [
    "Observations: Vietnamese and Korean cuisines cost less compared to other cuisines.\n",
    "The boxplots for Italian, American, Chinese, Japanese cuisines are quite similar. This indicates that the quartile costs for these cuisines are quite similar.\n",
    "Outliers are present for the cost of Korean, Mediterranean and Vietnamese cuisines.\n",
    "French and Spanish cuisines are costlier compared to other cuisines."
   ]
  },
  {
   "cell_type": "markdown",
   "id": "1ff3cd26",
   "metadata": {
    "id": "3YX_KvxWXGUC",
    "papermill": {
     "duration": 0.043588,
     "end_time": "2024-01-25T19:39:18.623792",
     "exception": false,
     "start_time": "2024-01-25T19:39:18.580204",
     "status": "completed"
    },
    "tags": []
   },
   "source": [
    "**Cuisine vs Food Preparation time**"
   ]
  },
  {
   "cell_type": "code",
   "execution_count": 34,
   "id": "3abac72b",
   "metadata": {
    "execution": {
     "iopub.execute_input": "2024-01-25T19:39:18.714343Z",
     "iopub.status.busy": "2024-01-25T19:39:18.713095Z",
     "iopub.status.idle": "2024-01-25T19:39:19.360910Z",
     "shell.execute_reply": "2024-01-25T19:39:19.359930Z"
    },
    "id": "CKR5PAM9GTpZ",
    "outputId": "bb46179e-8597-4aad-b699-a67c51522282",
    "papermill": {
     "duration": 0.696383,
     "end_time": "2024-01-25T19:39:19.363964",
     "exception": false,
     "start_time": "2024-01-25T19:39:18.667581",
     "status": "completed"
    },
    "tags": []
   },
   "outputs": [
    {
     "data": {
      "image/png": "[encoded data removed]",
      "text/plain": [
       "<Figure size 1500x700 with 1 Axes>"
      ]
     },
     "metadata": {},
     "output_type": "display_data"
    }
   ],
   "source": [
    "# Relationship between food preparation time and cuisine type\n",
    "plt.figure(figsize=(15,7))\n",
    "sns.boxplot(x = \"cuisine_type\", y = \"food_preparation_time\", data = df)\n",
    "plt.xticks(rotation = 60)\n",
    "plt.show()"
   ]
  },
  {
   "cell_type": "markdown",
   "id": "1b44ab29",
   "metadata": {
    "id": "svTb-kcHGa0P",
    "papermill": {
     "duration": 0.045485,
     "end_time": "2024-01-25T19:39:19.455424",
     "exception": false,
     "start_time": "2024-01-25T19:39:19.409939",
     "status": "completed"
    },
    "tags": []
   },
   "source": [
    "Observations:Food preparation time is very consistent for most of the cuisines.\n",
    "The median food preparation time lies between 24 and 30 minutes for all the cuisines. Outliers are present for the food preparation time of Korean cuisine.\n",
    "Korean cuisine takes less time compared to the other cuisines.\n"
   ]
  },
  {
   "cell_type": "markdown",
   "id": "ddcd3d87",
   "metadata": {
    "id": "lncgw8DUXhWe",
    "papermill": {
     "duration": 0.045622,
     "end_time": "2024-01-25T19:39:19.547154",
     "exception": false,
     "start_time": "2024-01-25T19:39:19.501532",
     "status": "completed"
    },
    "tags": []
   },
   "source": [
    "**Day of the Week vs Delivery time**"
   ]
  },
  {
   "cell_type": "code",
   "execution_count": 35,
   "id": "df483a23",
   "metadata": {
    "execution": {
     "iopub.execute_input": "2024-01-25T19:39:19.642992Z",
     "iopub.status.busy": "2024-01-25T19:39:19.641579Z",
     "iopub.status.idle": "2024-01-25T19:39:19.890314Z",
     "shell.execute_reply": "2024-01-25T19:39:19.888914Z"
    },
    "id": "Nj4w6X70Gdvu",
    "outputId": "73dd840f-03af-43cd-9578-153ce52510fe",
    "papermill": {
     "duration": 0.299681,
     "end_time": "2024-01-25T19:39:19.893411",
     "exception": false,
     "start_time": "2024-01-25T19:39:19.593730",
     "status": "completed"
    },
    "tags": []
   },
   "outputs": [
    {
     "data": {
      "image/png": "[encoded data removed]",
      "text/plain": [
       "<Figure size 1500x700 with 1 Axes>"
      ]
     },
     "metadata": {},
     "output_type": "display_data"
    }
   ],
   "source": [
    "# Relationship between day of the week and delivery time\n",
    "plt.figure(figsize=(15,7))\n",
    "sns.boxplot(x = \"day_of_the_week\", y = \"delivery_time\", data = df)\n",
    "plt.xticks(rotation = 60)\n",
    "plt.show()"
   ]
  },
  {
   "cell_type": "markdown",
   "id": "04935cd1",
   "metadata": {
    "id": "oYf3lPeZX0QF",
    "papermill": {
     "duration": 0.047736,
     "end_time": "2024-01-25T19:39:19.988038",
     "exception": false,
     "start_time": "2024-01-25T19:39:19.940302",
     "status": "completed"
    },
    "tags": []
   },
   "source": [
    "Observations:The delivery time for all the orders over the weekends is less compared to weekdays. This could be due to the dip in traffic over the weekends."
   ]
  },
  {
   "cell_type": "markdown",
   "id": "92957fc8",
   "metadata": {
    "id": "2nuz-Vx_YImL",
    "papermill": {
     "duration": 0.045216,
     "end_time": "2024-01-25T19:39:20.084920",
     "exception": false,
     "start_time": "2024-01-25T19:39:20.039704",
     "status": "completed"
    },
    "tags": []
   },
   "source": [
    "**Revenue generated by the restaurants**\n"
   ]
  },
  {
   "cell_type": "code",
   "execution_count": 36,
   "id": "36fc4b71",
   "metadata": {
    "execution": {
     "iopub.execute_input": "2024-01-25T19:39:20.181218Z",
     "iopub.status.busy": "2024-01-25T19:39:20.180744Z",
     "iopub.status.idle": "2024-01-25T19:39:20.203609Z",
     "shell.execute_reply": "2024-01-25T19:39:20.202134Z"
    },
    "id": "k_pxmcjIYgN2",
    "outputId": "3f739cdc-0735-4ea9-8e0f-2266574d21b9",
    "papermill": {
     "duration": 0.074898,
     "end_time": "2024-01-25T19:39:20.206729",
     "exception": false,
     "start_time": "2024-01-25T19:39:20.131831",
     "status": "completed"
    },
    "tags": []
   },
   "outputs": [
    {
     "data": {
      "text/plain": [
       "restaurant_name\n",
       "Shake Shack                      3579.53\n",
       "The Meatball Shop                2145.21\n",
       "Blue Ribbon Sushi                1903.95\n",
       "Blue Ribbon Fried Chicken        1662.29\n",
       "Parm                             1112.76\n",
       "RedFarm Broadway                  965.13\n",
       "RedFarm Hudson                    921.21\n",
       "TAO                               834.50\n",
       "Han Dynasty                       755.29\n",
       "Blue Ribbon Sushi Bar & Grill     666.62\n",
       "Rubirosa                          660.45\n",
       "Sushi of Gari 46                  640.87\n",
       "Nobu Next Door                    623.67\n",
       "Five Guys Burgers and Fries       506.47\n",
       "Name: cost_of_the_order, dtype: float64"
      ]
     },
     "execution_count": 36,
     "metadata": {},
     "output_type": "execute_result"
    },
    {
     "data": {
      "text/plain": [
       "<Figure size 1500x700 with 0 Axes>"
      ]
     },
     "metadata": {},
     "output_type": "display_data"
    }
   ],
   "source": [
    "plt.figure(figsize = (15, 7))\n",
    "df.groupby(['restaurant_name'])['cost_of_the_order'].sum().sort_values(ascending = False).head(14)"
   ]
  },
  {
   "cell_type": "code",
   "execution_count": 37,
   "id": "c5f54ff5",
   "metadata": {
    "execution": {
     "iopub.execute_input": "2024-01-25T19:39:20.303251Z",
     "iopub.status.busy": "2024-01-25T19:39:20.302730Z",
     "iopub.status.idle": "2024-01-25T19:39:20.703143Z",
     "shell.execute_reply": "2024-01-25T19:39:20.701789Z"
    },
    "id": "VaMWD641G3gC",
    "outputId": "6166be34-9ddb-4d23-bb08-4bcd2904e101",
    "papermill": {
     "duration": 0.452234,
     "end_time": "2024-01-25T19:39:20.706790",
     "exception": false,
     "start_time": "2024-01-25T19:39:20.254556",
     "status": "completed"
    },
    "tags": []
   },
   "outputs": [
    {
     "data": {
      "image/png": "[encoded data removed]",
      "text/plain": [
       "<Figure size 2000x600 with 1 Axes>"
      ]
     },
     "metadata": {},
     "output_type": "display_data"
    }
   ],
   "source": [
    "#plt.figure(figsize=(20,6))\n",
    "#sns.catplot(data=top10_cost,x= 'restaurant_name', y='cost_of_the_order', kind=\n",
    "#'bar')\n",
    "#plt.xticks(rotation=90);\n",
    "top10_cost = df.groupby(['restaurant_name'])['cost_of_the_order'].sum().sort_values(ascending=False).head(10)\n",
    "\n",
    "# Plot the top 10 restaurants based on revenue generated\n",
    "plt.figure(figsize=(20,6))\n",
    "sns.barplot(x=top10_cost.index, y=top10_cost.values)\n",
    "plt.xticks(rotation=90)\n",
    "plt.xlabel('Restaurant Name')\n",
    "plt.ylabel('Total Revenue')\n",
    "plt.title('Top 10 Restaurants by Revenue')\n",
    "plt.show()"
   ]
  },
  {
   "cell_type": "markdown",
   "id": "1ff83938",
   "metadata": {
    "id": "3NOc81t-G8_P",
    "papermill": {
     "duration": 0.047191,
     "end_time": "2024-01-25T19:39:20.801441",
     "exception": false,
     "start_time": "2024-01-25T19:39:20.754250",
     "status": "completed"
    },
    "tags": []
   },
   "source": [
    "Observations: From the bargragh it is obvious that restaurant shake shack is the most costly restaurant followed by the meatball shop then blue ribbon susshi and at the 1oth place comes blue ribbon sushi bar"
   ]
  },
  {
   "cell_type": "code",
   "execution_count": 38,
   "id": "5ab17d14",
   "metadata": {
    "execution": {
     "iopub.execute_input": "2024-01-25T19:39:20.899110Z",
     "iopub.status.busy": "2024-01-25T19:39:20.898215Z",
     "iopub.status.idle": "2024-01-25T19:39:20.917795Z",
     "shell.execute_reply": "2024-01-25T19:39:20.916584Z"
    },
    "id": "vKHYiGZ_G__5",
    "outputId": "e246e9b6-a71c-4474-cee3-650c14d20cb8",
    "papermill": {
     "duration": 0.071837,
     "end_time": "2024-01-25T19:39:20.920869",
     "exception": false,
     "start_time": "2024-01-25T19:39:20.849032",
     "status": "completed"
    },
    "tags": []
   },
   "outputs": [
    {
     "data": {
      "text/html": [
       "<div>\n",
       "<style scoped>\n",
       "    .dataframe tbody tr th:only-of-type {\n",
       "        vertical-align: middle;\n",
       "    }\n",
       "\n",
       "    .dataframe tbody tr th {\n",
       "        vertical-align: top;\n",
       "    }\n",
       "\n",
       "    .dataframe thead th {\n",
       "        text-align: right;\n",
       "    }\n",
       "</style>\n",
       "<table border=\"1\" class=\"dataframe\">\n",
       "  <thead>\n",
       "    <tr style=\"text-align: right;\">\n",
       "      <th></th>\n",
       "      <th>cuisine_type</th>\n",
       "      <th>cost_of_the_order</th>\n",
       "    </tr>\n",
       "  </thead>\n",
       "  <tbody>\n",
       "    <tr>\n",
       "      <th>0</th>\n",
       "      <td>American</td>\n",
       "      <td>9530.78</td>\n",
       "    </tr>\n",
       "    <tr>\n",
       "      <th>1</th>\n",
       "      <td>Japanese</td>\n",
       "      <td>7663.13</td>\n",
       "    </tr>\n",
       "    <tr>\n",
       "      <th>2</th>\n",
       "      <td>Italian</td>\n",
       "      <td>4892.77</td>\n",
       "    </tr>\n",
       "    <tr>\n",
       "      <th>3</th>\n",
       "      <td>Chinese</td>\n",
       "      <td>3505.62</td>\n",
       "    </tr>\n",
       "    <tr>\n",
       "      <th>4</th>\n",
       "      <td>Mexican</td>\n",
       "      <td>1303.85</td>\n",
       "    </tr>\n",
       "    <tr>\n",
       "      <th>5</th>\n",
       "      <td>Indian</td>\n",
       "      <td>1235.14</td>\n",
       "    </tr>\n",
       "    <tr>\n",
       "      <th>6</th>\n",
       "      <td>Middle Eastern</td>\n",
       "      <td>922.21</td>\n",
       "    </tr>\n",
       "    <tr>\n",
       "      <th>7</th>\n",
       "      <td>Mediterranean</td>\n",
       "      <td>711.84</td>\n",
       "    </tr>\n",
       "    <tr>\n",
       "      <th>8</th>\n",
       "      <td>Thai</td>\n",
       "      <td>364.95</td>\n",
       "    </tr>\n",
       "    <tr>\n",
       "      <th>9</th>\n",
       "      <td>French</td>\n",
       "      <td>356.29</td>\n",
       "    </tr>\n",
       "  </tbody>\n",
       "</table>\n",
       "</div>"
      ],
      "text/plain": [
       "     cuisine_type  cost_of_the_order\n",
       "0        American            9530.78\n",
       "1        Japanese            7663.13\n",
       "2         Italian            4892.77\n",
       "3         Chinese            3505.62\n",
       "4         Mexican            1303.85\n",
       "5          Indian            1235.14\n",
       "6  Middle Eastern             922.21\n",
       "7   Mediterranean             711.84\n",
       "8            Thai             364.95\n",
       "9          French             356.29"
      ]
     },
     "execution_count": 38,
     "metadata": {},
     "output_type": "execute_result"
    }
   ],
   "source": [
    "top10_type = df.groupby('cuisine_type').sum(numeric_only=True)[['cost_of_the_order']].sort_values('cost_of_the_order', ascending=False).reset_index().head(10)\n",
    "top10_type"
   ]
  },
  {
   "cell_type": "code",
   "execution_count": 39,
   "id": "eb265660",
   "metadata": {
    "execution": {
     "iopub.execute_input": "2024-01-25T19:39:21.019490Z",
     "iopub.status.busy": "2024-01-25T19:39:21.018129Z",
     "iopub.status.idle": "2024-01-25T19:39:21.407445Z",
     "shell.execute_reply": "2024-01-25T19:39:21.406206Z"
    },
    "id": "-Xpz_mLkHQoW",
    "outputId": "597b3ed6-0bd8-4f2e-80f9-a3d3d012b7a7",
    "papermill": {
     "duration": 0.442498,
     "end_time": "2024-01-25T19:39:21.410570",
     "exception": false,
     "start_time": "2024-01-25T19:39:20.968072",
     "status": "completed"
    },
    "tags": []
   },
   "outputs": [
    {
     "data": {
      "text/plain": [
       "<Figure size 2000x600 with 0 Axes>"
      ]
     },
     "metadata": {},
     "output_type": "display_data"
    },
    {
     "data": {
      "image/png": "[encoded data removed]",
      "text/plain": [
       "<Figure size 500x500 with 1 Axes>"
      ]
     },
     "metadata": {},
     "output_type": "display_data"
    }
   ],
   "source": [
    "plt.figure(figsize=(20,6))\n",
    "sns.catplot(data=top10_type,x= 'cuisine_type', y='cost_of_the_order',kind='bar')\n",
    "plt.xticks(rotation=90);"
   ]
  },
  {
   "cell_type": "markdown",
   "id": "74490304",
   "metadata": {
    "id": "LTPWnq4XHlB5",
    "papermill": {
     "duration": 0.048794,
     "end_time": "2024-01-25T19:39:21.507174",
     "exception": false,
     "start_time": "2024-01-25T19:39:21.458380",
     "status": "completed"
    },
    "tags": []
   },
   "source": [
    "Observations: The American cuisine is the most expensive type followed by Japanese the Italian and then comes at 1oth place the french"
   ]
  },
  {
   "cell_type": "markdown",
   "id": "bdbe4f5f",
   "metadata": {
    "id": "V_mb0xZxZ7f2",
    "papermill": {
     "duration": 0.048742,
     "end_time": "2024-01-25T19:39:21.605790",
     "exception": false,
     "start_time": "2024-01-25T19:39:21.557048",
     "status": "completed"
    },
    "tags": []
   },
   "source": [
    "**Rating vs Delivery time**"
   ]
  },
  {
   "cell_type": "code",
   "execution_count": 40,
   "id": "0f97071e",
   "metadata": {
    "execution": {
     "iopub.execute_input": "2024-01-25T19:39:21.705925Z",
     "iopub.status.busy": "2024-01-25T19:39:21.705432Z",
     "iopub.status.idle": "2024-01-25T19:39:22.113784Z",
     "shell.execute_reply": "2024-01-25T19:39:22.112321Z"
    },
    "id": "rCmG4l8ZHoHS",
    "outputId": "3150c823-c431-474b-f7ff-49e9fa90171c",
    "papermill": {
     "duration": 0.461635,
     "end_time": "2024-01-25T19:39:22.116973",
     "exception": false,
     "start_time": "2024-01-25T19:39:21.655338",
     "status": "completed"
    },
    "tags": []
   },
   "outputs": [
    {
     "data": {
      "image/png": "[encoded data removed]",
      "text/plain": [
       "<Figure size 1500x700 with 1 Axes>"
      ]
     },
     "metadata": {},
     "output_type": "display_data"
    }
   ],
   "source": [
    "plt.figure(figsize=(15, 7))\n",
    "sns.pointplot(x = 'rating', y = 'delivery_time', data = df)\n",
    "plt.show()\n"
   ]
  },
  {
   "cell_type": "markdown",
   "id": "cbcc526a",
   "metadata": {
    "id": "sjcOemckbIOU",
    "papermill": {
     "duration": 0.049824,
     "end_time": "2024-01-25T19:39:22.216919",
     "exception": false,
     "start_time": "2024-01-25T19:39:22.167095",
     "status": "completed"
    },
    "tags": []
   },
   "source": [
    "Observations : It is possible that delivery time plays a role in the low-rating of the orders.\n"
   ]
  },
  {
   "cell_type": "markdown",
   "id": "d0dbe67c",
   "metadata": {
    "id": "brQtXZ2abT7V",
    "papermill": {
     "duration": 0.05007,
     "end_time": "2024-01-25T19:39:22.319628",
     "exception": false,
     "start_time": "2024-01-25T19:39:22.269558",
     "status": "completed"
    },
    "tags": []
   },
   "source": [
    "**Rating vs Food preparation time**"
   ]
  },
  {
   "cell_type": "code",
   "execution_count": 41,
   "id": "9c52c5c7",
   "metadata": {
    "execution": {
     "iopub.execute_input": "2024-01-25T19:39:22.422190Z",
     "iopub.status.busy": "2024-01-25T19:39:22.421721Z",
     "iopub.status.idle": "2024-01-25T19:39:22.814636Z",
     "shell.execute_reply": "2024-01-25T19:39:22.813646Z"
    },
    "id": "_tTM0k3iH7Cn",
    "outputId": "1470a0aa-c993-4097-9fc1-9907b5f55c80",
    "papermill": {
     "duration": 0.446155,
     "end_time": "2024-01-25T19:39:22.817181",
     "exception": false,
     "start_time": "2024-01-25T19:39:22.371026",
     "status": "completed"
    },
    "tags": []
   },
   "outputs": [
    {
     "data": {
      "image/png": "[encoded data removed]",
      "text/plain": [
       "<Figure size 1500x700 with 1 Axes>"
      ]
     },
     "metadata": {},
     "output_type": "display_data"
    }
   ],
   "source": [
    "plt.figure(figsize=(15, 7))\n",
    "sns.pointplot(x = 'rating', y = 'food_preparation_time', data = df)\n",
    "plt.show()"
   ]
  },
  {
   "cell_type": "markdown",
   "id": "4407c2de",
   "metadata": {
    "id": "rrgev60Ibk7L",
    "papermill": {
     "duration": 0.04905,
     "end_time": "2024-01-25T19:39:22.915754",
     "exception": false,
     "start_time": "2024-01-25T19:39:22.866704",
     "status": "completed"
    },
    "tags": []
   },
   "source": [
    "Observations:It seems that food preparation time does not play a role in the low-rating of the orders."
   ]
  },
  {
   "cell_type": "markdown",
   "id": "3c31d449",
   "metadata": {
    "id": "DagZOpCIboI8",
    "papermill": {
     "duration": 0.049342,
     "end_time": "2024-01-25T19:39:23.016402",
     "exception": false,
     "start_time": "2024-01-25T19:39:22.967060",
     "status": "completed"
    },
    "tags": []
   },
   "source": [
    "**Rating vs Cost of the order**"
   ]
  },
  {
   "cell_type": "code",
   "execution_count": 42,
   "id": "75218668",
   "metadata": {
    "execution": {
     "iopub.execute_input": "2024-01-25T19:39:23.119029Z",
     "iopub.status.busy": "2024-01-25T19:39:23.118512Z",
     "iopub.status.idle": "2024-01-25T19:39:23.503632Z",
     "shell.execute_reply": "2024-01-25T19:39:23.502323Z"
    },
    "id": "mMSBCvBEb0Ik",
    "outputId": "d566002f-bf4e-4b71-ab9b-10041c85b10a",
    "papermill": {
     "duration": 0.440615,
     "end_time": "2024-01-25T19:39:23.506740",
     "exception": false,
     "start_time": "2024-01-25T19:39:23.066125",
     "status": "completed"
    },
    "tags": []
   },
   "outputs": [
    {
     "data": {
      "image/png": "[encoded data removed]",
      "text/plain": [
       "<Figure size 1500x700 with 1 Axes>"
      ]
     },
     "metadata": {},
     "output_type": "display_data"
    }
   ],
   "source": [
    "plt.figure(figsize=(15, 7))\n",
    "sns.pointplot(x = 'rating', y = 'cost_of_the_order', data = df)\n",
    "plt.show()"
   ]
  },
  {
   "cell_type": "markdown",
   "id": "4ccd5e70",
   "metadata": {
    "id": "HtuCF17zb3ai",
    "papermill": {
     "duration": 0.053956,
     "end_time": "2024-01-25T19:39:23.611420",
     "exception": false,
     "start_time": "2024-01-25T19:39:23.557464",
     "status": "completed"
    },
    "tags": []
   },
   "source": [
    "Observations:It seems that high-cost orders have been rated well and low-cost orders have not been rated."
   ]
  },
  {
   "cell_type": "markdown",
   "id": "202f94aa",
   "metadata": {
    "id": "V85TfLXEb-BD",
    "papermill": {
     "duration": 0.053422,
     "end_time": "2024-01-25T19:39:23.716092",
     "exception": false,
     "start_time": "2024-01-25T19:39:23.662670",
     "status": "completed"
    },
    "tags": []
   },
   "source": [
    "**Correlation among variables**"
   ]
  },
  {
   "cell_type": "code",
   "execution_count": 43,
   "id": "bacf9494",
   "metadata": {
    "execution": {
     "iopub.execute_input": "2024-01-25T19:39:23.821593Z",
     "iopub.status.busy": "2024-01-25T19:39:23.820830Z",
     "iopub.status.idle": "2024-01-25T19:39:24.205055Z",
     "shell.execute_reply": "2024-01-25T19:39:24.203029Z"
    },
    "id": "36hHek2kcBHE",
    "outputId": "7641691a-fbcc-4d7c-c24e-fae25e288f8c",
    "papermill": {
     "duration": 0.441422,
     "end_time": "2024-01-25T19:39:24.209324",
     "exception": false,
     "start_time": "2024-01-25T19:39:23.767902",
     "status": "completed"
    },
    "tags": []
   },
   "outputs": [
    {
     "data": {
      "image/png": "[encoded data removed]",
      "text/plain": [
       "<Figure size 1500x700 with 2 Axes>"
      ]
     },
     "metadata": {},
     "output_type": "display_data"
    }
   ],
   "source": [
    "col_list = ['cost_of_the_order', 'food_preparation_time', 'delivery_time']\n",
    "plt.figure(figsize=(15, 7))\n",
    "sns.heatmap(df[col_list].corr(), annot=True, vmin=-1, vmax=1, fmt=\".2f\", cmap=\"Spectral\" )\n",
    "plt.show()"
   ]
  },
  {
   "cell_type": "markdown",
   "id": "102673b9",
   "metadata": {
    "id": "6d3ll9qHcKWg",
    "papermill": {
     "duration": 0.053175,
     "end_time": "2024-01-25T19:39:24.317266",
     "exception": false,
     "start_time": "2024-01-25T19:39:24.264091",
     "status": "completed"
    },
    "tags": []
   },
   "source": [
    "Observations:There is no correlation between cost of the order, delivery time and food preparation time.\n"
   ]
  },
  {
   "cell_type": "markdown",
   "id": "17a5c774",
   "metadata": {
    "id": "YLkMf09YJY_V",
    "papermill": {
     "duration": 0.055033,
     "end_time": "2024-01-25T19:39:24.426322",
     "exception": false,
     "start_time": "2024-01-25T19:39:24.371289",
     "status": "completed"
    },
    "tags": []
   },
   "source": [
    "### **Question 13:** The company wants to provide a promotional offer in the advertisement of the restaurants. The condition to get the offer is that the restaurants must have a rating count of more than 50 and the average rating should be greater than 4. Find the restaurants fulfilling the criteria to get the promotional offer. [3 marks]"
   ]
  },
  {
   "cell_type": "code",
   "execution_count": 44,
   "id": "efabc90c",
   "metadata": {
    "execution": {
     "iopub.execute_input": "2024-01-25T19:39:24.531554Z",
     "iopub.status.busy": "2024-01-25T19:39:24.530915Z",
     "iopub.status.idle": "2024-01-25T19:39:24.555142Z",
     "shell.execute_reply": "2024-01-25T19:39:24.553360Z"
    },
    "id": "0M_QDvbYJY_V",
    "outputId": "63e55774-696c-4a44-f707-ec87dc2f4e2e",
    "papermill": {
     "duration": 0.08102,
     "end_time": "2024-01-25T19:39:24.558351",
     "exception": false,
     "start_time": "2024-01-25T19:39:24.477331",
     "status": "completed"
    },
    "tags": []
   },
   "outputs": [
    {
     "name": "stdout",
     "output_type": "stream",
     "text": [
      "Empty DataFrame\n",
      "Columns: []\n",
      "Index: ['wichcraft, 12 Chairs, 5 Napkin Burger, 67 Burger, Alidoro, Amma, Amy Ruth's, Anjappar Chettinad, Asuka Sushi, Aurora, Balade, Balthazar Boulangerie, Barbounia, Bareburger, Benihana, Bhatti Indian Grill, Big Daddy's, Big Wong Restaurant _¤¾Ñ¼, Bistango, Blue Ribbon Brooklyn, Blue Ribbon Fried Chicken, Blue Ribbon Sushi, Blue Ribbon Sushi Bar & Grill, Blue Ribbon Sushi Izakaya, Boqueria, Bubby's , Bukhara Grill, Burger Joint, Byblos Restaurant, Cafe Habana, Cafe Mogador, Cafe de La Esquina, Cafeteria, CafÌ© China, Carmine's, Chipotle Mexican Grill $1.99 Delivery, Cho Dang Gol, Chola Eclectic Indian Cuisine, Chote Nawab, Cipriani Le Specialita, Coppola's East, Crema Restaurante, Delicatessen, DespaÌ±a, Dickson's Farmstand Meats, Dig Inn Seasonal Market, Dirty Bird To Go (archived), Dirty Bird to Go, Don's Bogam BBQ & Wine Bar, Donburi-ya, Dos Caminos, Dos Caminos Soho, DuMont Burger, El Parador Cafe, Empanada Mama (closed), Emporio, Five Guys Burgers and Fries, Five Leaves, Frank Restaurant, Friend of a Farmer, Gaia Italian Cafe, Galli Restaurant, Go! Go! Curry!, Grand Sichuan International, Haandi, Hampton Chutney Co., Han Dynasty, Hangawi, Haru Gramercy Park, Hatsuhana, Haveli Indian Restaurant, Hibino, Hill Country Fried Chicken, Hiroko's Place, Hot Kitchen, Hummus Place, Hunan Manor, Il Bambino, Izakaya Ten, J. G. Melon, Jack's Wife Freda, Joe's Shanghai _Àü£¾÷´, Junoon, Kambi Ramen House, Kanoyama, Klong, Kori Restaurant and Bar, L'Express, La Follia, Lamarca Pasta, Lantern Thai Kitchen, Le Grainne Cafe, Le Zie 2000 Trattoria, Lucky Strike, Lucky's Famous Burgers, Mamoun's Falafel, Market Table, Melt Shop, Mira Sushi, Mission Cantina, ...]\n",
      "\n",
      "[178 rows x 0 columns]\n",
      "                  rating\n",
      "restaurant_name         \n",
      "'wichcraft         False\n",
      "12 Chairs          False\n",
      "5 Napkin Burger    False\n",
      "67 Burger          False\n",
      "Alidoro            False\n",
      "...                  ...\n",
      "Zero Otto Nove     False\n",
      "brgr               False\n",
      "da Umberto         False\n",
      "ilili Restaurant   False\n",
      "indikitch          False\n",
      "\n",
      "[178 rows x 1 columns]\n"
     ]
    }
   ],
   "source": [
    "# Write the code here\n",
    "\n",
    "d2 = df[['restaurant_name', 'rating']][df['rating'] != 0].groupby('restaurant_name').mean(numeric_only=True) > 4\n",
    "d3 = df[['restaurant_name', 'rating']][df['rating'] != 0].groupby('restaurant_name').count() > 50\n",
    "\n",
    "print(d2)\n",
    "print(d3)\n"
   ]
  },
  {
   "cell_type": "code",
   "execution_count": 45,
   "id": "4ba27123",
   "metadata": {
    "execution": {
     "iopub.execute_input": "2024-01-25T19:39:24.668360Z",
     "iopub.status.busy": "2024-01-25T19:39:24.667833Z",
     "iopub.status.idle": "2024-01-25T19:39:24.687929Z",
     "shell.execute_reply": "2024-01-25T19:39:24.686455Z"
    },
    "id": "KNWXbtIQdQLk",
    "outputId": "fb74271d-040d-464a-c843-c3107513cfc2",
    "papermill": {
     "duration": 0.077464,
     "end_time": "2024-01-25T19:39:24.690675",
     "exception": false,
     "start_time": "2024-01-25T19:39:24.613211",
     "status": "completed"
    },
    "tags": []
   },
   "outputs": [
    {
     "data": {
      "text/html": [
       "<div>\n",
       "<style scoped>\n",
       "    .dataframe tbody tr th:only-of-type {\n",
       "        vertical-align: middle;\n",
       "    }\n",
       "\n",
       "    .dataframe tbody tr th {\n",
       "        vertical-align: top;\n",
       "    }\n",
       "\n",
       "    .dataframe thead th {\n",
       "        text-align: right;\n",
       "    }\n",
       "</style>\n",
       "<table border=\"1\" class=\"dataframe\">\n",
       "  <thead>\n",
       "    <tr style=\"text-align: right;\">\n",
       "      <th></th>\n",
       "      <th>restaurant_name</th>\n",
       "      <th>rating</th>\n",
       "    </tr>\n",
       "  </thead>\n",
       "  <tbody>\n",
       "    <tr>\n",
       "      <th>0</th>\n",
       "      <td>Shake Shack</td>\n",
       "      <td>133</td>\n",
       "    </tr>\n",
       "    <tr>\n",
       "      <th>1</th>\n",
       "      <td>The Meatball Shop</td>\n",
       "      <td>84</td>\n",
       "    </tr>\n",
       "    <tr>\n",
       "      <th>2</th>\n",
       "      <td>Blue Ribbon Sushi</td>\n",
       "      <td>73</td>\n",
       "    </tr>\n",
       "    <tr>\n",
       "      <th>3</th>\n",
       "      <td>Blue Ribbon Fried Chicken</td>\n",
       "      <td>64</td>\n",
       "    </tr>\n",
       "    <tr>\n",
       "      <th>4</th>\n",
       "      <td>RedFarm Broadway</td>\n",
       "      <td>41</td>\n",
       "    </tr>\n",
       "  </tbody>\n",
       "</table>\n",
       "</div>"
      ],
      "text/plain": [
       "             restaurant_name  rating\n",
       "0                Shake Shack     133\n",
       "1          The Meatball Shop      84\n",
       "2          Blue Ribbon Sushi      73\n",
       "3  Blue Ribbon Fried Chicken      64\n",
       "4           RedFarm Broadway      41"
      ]
     },
     "execution_count": 45,
     "metadata": {},
     "output_type": "execute_result"
    }
   ],
   "source": [
    "# filter the rated restaurants\n",
    "df_rated = df[df['rating'] != 'Not given'].copy()\n",
    "# convert rating column from object to integer\n",
    "df_rated['rating'] = df_rated['rating'].astype('int')\n",
    "# create a dataframe that contains the restaurant names with their rating counts\n",
    "df_rating_count = df_rated.groupby(['restaurant_name'])['rating'].count().sort_values(ascending = False).reset_index()\n",
    "df_rating_count.head()"
   ]
  },
  {
   "cell_type": "code",
   "execution_count": 46,
   "id": "eda3a660",
   "metadata": {
    "execution": {
     "iopub.execute_input": "2024-01-25T19:39:24.800272Z",
     "iopub.status.busy": "2024-01-25T19:39:24.799719Z",
     "iopub.status.idle": "2024-01-25T19:39:24.822758Z",
     "shell.execute_reply": "2024-01-25T19:39:24.821484Z"
    },
    "id": "mQEqP6SSeXP_",
    "outputId": "ef52750e-feaf-418f-b059-71b18a20941a",
    "papermill": {
     "duration": 0.081539,
     "end_time": "2024-01-25T19:39:24.825853",
     "exception": false,
     "start_time": "2024-01-25T19:39:24.744314",
     "status": "completed"
    },
    "tags": []
   },
   "outputs": [
    {
     "data": {
      "text/html": [
       "<div>\n",
       "<style scoped>\n",
       "    .dataframe tbody tr th:only-of-type {\n",
       "        vertical-align: middle;\n",
       "    }\n",
       "\n",
       "    .dataframe tbody tr th {\n",
       "        vertical-align: top;\n",
       "    }\n",
       "\n",
       "    .dataframe thead th {\n",
       "        text-align: right;\n",
       "    }\n",
       "</style>\n",
       "<table border=\"1\" class=\"dataframe\">\n",
       "  <thead>\n",
       "    <tr style=\"text-align: right;\">\n",
       "      <th></th>\n",
       "      <th>restaurant_name</th>\n",
       "      <th>rating</th>\n",
       "    </tr>\n",
       "  </thead>\n",
       "  <tbody>\n",
       "    <tr>\n",
       "      <th>0</th>\n",
       "      <td>The Meatball Shop</td>\n",
       "      <td>4.511905</td>\n",
       "    </tr>\n",
       "    <tr>\n",
       "      <th>1</th>\n",
       "      <td>Blue Ribbon Fried Chicken</td>\n",
       "      <td>4.328125</td>\n",
       "    </tr>\n",
       "    <tr>\n",
       "      <th>2</th>\n",
       "      <td>Shake Shack</td>\n",
       "      <td>4.278195</td>\n",
       "    </tr>\n",
       "    <tr>\n",
       "      <th>3</th>\n",
       "      <td>Blue Ribbon Sushi</td>\n",
       "      <td>4.219178</td>\n",
       "    </tr>\n",
       "  </tbody>\n",
       "</table>\n",
       "</div>"
      ],
      "text/plain": [
       "             restaurant_name    rating\n",
       "0          The Meatball Shop  4.511905\n",
       "1  Blue Ribbon Fried Chicken  4.328125\n",
       "2                Shake Shack  4.278195\n",
       "3          Blue Ribbon Sushi  4.219178"
      ]
     },
     "execution_count": 46,
     "metadata": {},
     "output_type": "execute_result"
    }
   ],
   "source": [
    "# get the restaurant names that have rating count more than 50\n",
    "rest_names = df_rating_count[df_rating_count['rating'] > 50]['restaurant_name']\n",
    "# filter to get the data of restaurants that have rating count more than 50\n",
    "df_mean_4 = df_rated[df_rated['restaurant_name'].isin(rest_names)].copy()\n",
    "# find the mean rating of the restaurants\n",
    "df_mean_4.groupby(df_mean_4['restaurant_name'])['rating'].mean().sort_values(ascending =False).reset_index()"
   ]
  },
  {
   "cell_type": "markdown",
   "id": "9397d3a9",
   "metadata": {
    "id": "10uryUMhJY_V",
    "papermill": {
     "duration": 0.051376,
     "end_time": "2024-01-25T19:39:24.929455",
     "exception": false,
     "start_time": "2024-01-25T19:39:24.878079",
     "status": "completed"
    },
    "tags": []
   },
   "source": [
    "#### Observations:The restaurants fulfilling the criteria to get the promotional offer are: Chicken', 'Shake Shack' and 'Blue Ribbon Sushi'\n"
   ]
  },
  {
   "cell_type": "markdown",
   "id": "740f68ed",
   "metadata": {
    "id": "1gvWBkRUJY_V",
    "papermill": {
     "duration": 0.05363,
     "end_time": "2024-01-25T19:39:25.036765",
     "exception": false,
     "start_time": "2024-01-25T19:39:24.983135",
     "status": "completed"
    },
    "tags": []
   },
   "source": [
    "### **Question 14:** The company charges the restaurant 25% on the orders having cost greater than 20 dollars and 15% on the orders having cost greater than 5 dollars. Find the net revenue generated by the company across all orders. [3 marks]"
   ]
  },
  {
   "cell_type": "code",
   "execution_count": 47,
   "id": "60bd2142",
   "metadata": {
    "execution": {
     "iopub.execute_input": "2024-01-25T19:39:25.148962Z",
     "iopub.status.busy": "2024-01-25T19:39:25.148468Z",
     "iopub.status.idle": "2024-01-25T19:39:25.194941Z",
     "shell.execute_reply": "2024-01-25T19:39:25.193296Z"
    },
    "id": "rEjbnTNEJY_W",
    "outputId": "20e2e9a5-7d04-488a-9691-e231ef3597d2",
    "papermill": {
     "duration": 0.103408,
     "end_time": "2024-01-25T19:39:25.197781",
     "exception": false,
     "start_time": "2024-01-25T19:39:25.094373",
     "status": "completed"
    },
    "tags": []
   },
   "outputs": [
    {
     "name": "stdout",
     "output_type": "stream",
     "text": [
      "Net revenue is:  6166.302999999994\n"
     ]
    }
   ],
   "source": [
    "# Write the code here\n",
    "revenue = 0  # Initializes the variable to hold the total revenue\n",
    "income = 0  # Initializes the variable to hold the income from individual orders\n",
    "cost = pd.Series(df['cost_of_the_order'])  # Creates a Pandas Series containing the 'cost_of_the_order' column from the DataFrame\n",
    "\n",
    "# Iterates through each item in the 'cost' Series using its length as the range\n",
    "for i in range(len(cost)):\n",
    "    # Checks conditions for cost ranges and calculates income based on percentages\n",
    "    if (cost[i] > 5) & (cost[i] < 20):\n",
    "        income = cost[i] * 0.15  # Calculates income at 15% for orders with costs between 5 and 20\n",
    "    elif (cost[i] > 20):\n",
    "        income = cost[i] * 0.25  # Calculates income at 25% for orders with costs above 20\n",
    "    else:\n",
    "        income = 0  # Sets income to 0 for orders not meeting the specified criteria\n",
    "\n",
    "    revenue = revenue + income  # Accumulates the income to calculate the total revenue\n",
    "\n",
    "# Prints the total revenue calculated from the loop\n",
    "print('Net revenue is: ', revenue)\n",
    "\n",
    "\n"
   ]
  },
  {
   "cell_type": "markdown",
   "id": "9e6695c5",
   "metadata": {
    "id": "XHCEJgH0JY_W",
    "papermill": {
     "duration": 0.053365,
     "end_time": "2024-01-25T19:39:25.304965",
     "exception": false,
     "start_time": "2024-01-25T19:39:25.251600",
     "status": "completed"
    },
    "tags": []
   },
   "source": [
    "#### Observations:Total revenue generated for all orders is 6166.31\n"
   ]
  },
  {
   "cell_type": "markdown",
   "id": "faa5496a",
   "metadata": {
    "id": "pRlVW-oeJY_W",
    "papermill": {
     "duration": 0.052819,
     "end_time": "2024-01-25T19:39:25.411367",
     "exception": false,
     "start_time": "2024-01-25T19:39:25.358548",
     "status": "completed"
    },
    "tags": []
   },
   "source": [
    "### **Question 15:** The company wants to analyze the total time required to deliver the food. What percentage of orders take more than 60 minutes to get delivered from the time the order is placed? (The food has to be prepared and then delivered.) [2 marks]"
   ]
  },
  {
   "cell_type": "code",
   "execution_count": 48,
   "id": "820c1ac4",
   "metadata": {
    "execution": {
     "iopub.execute_input": "2024-01-25T19:39:25.520047Z",
     "iopub.status.busy": "2024-01-25T19:39:25.519501Z",
     "iopub.status.idle": "2024-01-25T19:39:25.539061Z",
     "shell.execute_reply": "2024-01-25T19:39:25.537793Z"
    },
    "id": "zxoTrxfLJY_W",
    "outputId": "e86e02e2-b99b-4a26-85a5-591923664389",
    "papermill": {
     "duration": 0.077403,
     "end_time": "2024-01-25T19:39:25.541797",
     "exception": false,
     "start_time": "2024-01-25T19:39:25.464394",
     "status": "completed"
    },
    "tags": []
   },
   "outputs": [
    {
     "data": {
      "text/html": [
       "<div>\n",
       "<style scoped>\n",
       "    .dataframe tbody tr th:only-of-type {\n",
       "        vertical-align: middle;\n",
       "    }\n",
       "\n",
       "    .dataframe tbody tr th {\n",
       "        vertical-align: top;\n",
       "    }\n",
       "\n",
       "    .dataframe thead th {\n",
       "        text-align: right;\n",
       "    }\n",
       "</style>\n",
       "<table border=\"1\" class=\"dataframe\">\n",
       "  <thead>\n",
       "    <tr style=\"text-align: right;\">\n",
       "      <th></th>\n",
       "      <th>order_id</th>\n",
       "      <th>customer_id</th>\n",
       "      <th>restaurant_name</th>\n",
       "      <th>cuisine_type</th>\n",
       "      <th>cost_of_the_order</th>\n",
       "      <th>day_of_the_week</th>\n",
       "      <th>rating</th>\n",
       "      <th>food_preparation_time</th>\n",
       "      <th>delivery_time</th>\n",
       "      <th>total_prep_time</th>\n",
       "    </tr>\n",
       "  </thead>\n",
       "  <tbody>\n",
       "    <tr>\n",
       "      <th>0</th>\n",
       "      <td>1477147</td>\n",
       "      <td>337525</td>\n",
       "      <td>Hangawi</td>\n",
       "      <td>Korean</td>\n",
       "      <td>30.75</td>\n",
       "      <td>Weekend</td>\n",
       "      <td>Not given</td>\n",
       "      <td>25</td>\n",
       "      <td>20</td>\n",
       "      <td>45</td>\n",
       "    </tr>\n",
       "    <tr>\n",
       "      <th>1</th>\n",
       "      <td>1477685</td>\n",
       "      <td>358141</td>\n",
       "      <td>Blue Ribbon Sushi Izakaya</td>\n",
       "      <td>Japanese</td>\n",
       "      <td>12.08</td>\n",
       "      <td>Weekend</td>\n",
       "      <td>Not given</td>\n",
       "      <td>25</td>\n",
       "      <td>23</td>\n",
       "      <td>48</td>\n",
       "    </tr>\n",
       "    <tr>\n",
       "      <th>2</th>\n",
       "      <td>1477070</td>\n",
       "      <td>66393</td>\n",
       "      <td>Cafe Habana</td>\n",
       "      <td>Mexican</td>\n",
       "      <td>12.23</td>\n",
       "      <td>Weekday</td>\n",
       "      <td>5</td>\n",
       "      <td>23</td>\n",
       "      <td>28</td>\n",
       "      <td>51</td>\n",
       "    </tr>\n",
       "    <tr>\n",
       "      <th>3</th>\n",
       "      <td>1477334</td>\n",
       "      <td>106968</td>\n",
       "      <td>Blue Ribbon Fried Chicken</td>\n",
       "      <td>American</td>\n",
       "      <td>29.20</td>\n",
       "      <td>Weekend</td>\n",
       "      <td>3</td>\n",
       "      <td>25</td>\n",
       "      <td>15</td>\n",
       "      <td>40</td>\n",
       "    </tr>\n",
       "    <tr>\n",
       "      <th>4</th>\n",
       "      <td>1478249</td>\n",
       "      <td>76942</td>\n",
       "      <td>Dirty Bird to Go</td>\n",
       "      <td>American</td>\n",
       "      <td>11.59</td>\n",
       "      <td>Weekday</td>\n",
       "      <td>4</td>\n",
       "      <td>25</td>\n",
       "      <td>24</td>\n",
       "      <td>49</td>\n",
       "    </tr>\n",
       "  </tbody>\n",
       "</table>\n",
       "</div>"
      ],
      "text/plain": [
       "   order_id  customer_id            restaurant_name cuisine_type  \\\n",
       "0   1477147       337525                    Hangawi       Korean   \n",
       "1   1477685       358141  Blue Ribbon Sushi Izakaya     Japanese   \n",
       "2   1477070        66393                Cafe Habana      Mexican   \n",
       "3   1477334       106968  Blue Ribbon Fried Chicken     American   \n",
       "4   1478249        76942           Dirty Bird to Go     American   \n",
       "\n",
       "   cost_of_the_order day_of_the_week     rating  food_preparation_time  \\\n",
       "0              30.75         Weekend  Not given                     25   \n",
       "1              12.08         Weekend  Not given                     25   \n",
       "2              12.23         Weekday          5                     23   \n",
       "3              29.20         Weekend          3                     25   \n",
       "4              11.59         Weekday          4                     25   \n",
       "\n",
       "   delivery_time  total_prep_time  \n",
       "0             20               45  \n",
       "1             23               48  \n",
       "2             28               51  \n",
       "3             15               40  \n",
       "4             24               49  "
      ]
     },
     "execution_count": 48,
     "metadata": {},
     "output_type": "execute_result"
    }
   ],
   "source": [
    "# Write the code here\n",
    "df['total_prep_time'] = df['food_preparation_time']+df['delivery_time']\n",
    "df.head()"
   ]
  },
  {
   "cell_type": "code",
   "execution_count": 49,
   "id": "782207d6",
   "metadata": {
    "execution": {
     "iopub.execute_input": "2024-01-25T19:39:25.653185Z",
     "iopub.status.busy": "2024-01-25T19:39:25.652680Z",
     "iopub.status.idle": "2024-01-25T19:39:25.664130Z",
     "shell.execute_reply": "2024-01-25T19:39:25.662933Z"
    },
    "id": "HWE8A5CEK3sR",
    "outputId": "69c691be-4dfd-4c93-c198-09050da7f7eb",
    "papermill": {
     "duration": 0.070484,
     "end_time": "2024-01-25T19:39:25.666591",
     "exception": false,
     "start_time": "2024-01-25T19:39:25.596107",
     "status": "completed"
    },
    "tags": []
   },
   "outputs": [
    {
     "data": {
      "text/plain": [
       "10.54"
      ]
     },
     "execution_count": 49,
     "metadata": {},
     "output_type": "execute_result"
    }
   ],
   "source": [
    "total_data = df['total_prep_time'].count() # Counts the total number of entries in the 'total_prep_time' column\n",
    "ordertime_above60 = df['total_prep_time'][df['total_prep_time']> 60].count() # Counts the number of entries where 'total_prep_time' is greater than 60\n",
    "\n",
    "percent_above60 = round((ordertime_above60/total_data)*100,2) # Calculates the percentage of orders with preparation time above 60\n",
    "percent_above60"
   ]
  },
  {
   "cell_type": "markdown",
   "id": "1baf040c",
   "metadata": {
    "id": "iqzBXn2yJY_W",
    "papermill": {
     "duration": 0.05559,
     "end_time": "2024-01-25T19:39:25.775512",
     "exception": false,
     "start_time": "2024-01-25T19:39:25.719922",
     "status": "completed"
    },
    "tags": []
   },
   "source": [
    "#### Observations:10.54% of orders take more than 60 minutes\n"
   ]
  },
  {
   "cell_type": "markdown",
   "id": "42563bd5",
   "metadata": {
    "id": "bUd6cYpPJY_W",
    "papermill": {
     "duration": 0.052975,
     "end_time": "2024-01-25T19:39:25.883184",
     "exception": false,
     "start_time": "2024-01-25T19:39:25.830209",
     "status": "completed"
    },
    "tags": []
   },
   "source": [
    "### **Question 16:** The company wants to analyze the delivery time of the orders on weekdays and weekends. How does the mean delivery time vary during weekdays and weekends? [2 marks]"
   ]
  },
  {
   "cell_type": "code",
   "execution_count": 50,
   "id": "d1636b03",
   "metadata": {
    "execution": {
     "iopub.execute_input": "2024-01-25T19:39:25.993651Z",
     "iopub.status.busy": "2024-01-25T19:39:25.993122Z",
     "iopub.status.idle": "2024-01-25T19:39:26.019056Z",
     "shell.execute_reply": "2024-01-25T19:39:26.017493Z"
    },
    "id": "pIU5xZZ6JY_W",
    "outputId": "2fea3e40-708e-4b64-c104-7f2c45f84e3e",
    "papermill": {
     "duration": 0.085307,
     "end_time": "2024-01-25T19:39:26.022730",
     "exception": false,
     "start_time": "2024-01-25T19:39:25.937423",
     "status": "completed"
    },
    "tags": []
   },
   "outputs": [
    {
     "data": {
      "text/html": [
       "<div>\n",
       "<style scoped>\n",
       "    .dataframe tbody tr th:only-of-type {\n",
       "        vertical-align: middle;\n",
       "    }\n",
       "\n",
       "    .dataframe tbody tr th {\n",
       "        vertical-align: top;\n",
       "    }\n",
       "\n",
       "    .dataframe thead tr th {\n",
       "        text-align: left;\n",
       "    }\n",
       "\n",
       "    .dataframe thead tr:last-of-type th {\n",
       "        text-align: right;\n",
       "    }\n",
       "</style>\n",
       "<table border=\"1\" class=\"dataframe\">\n",
       "  <thead>\n",
       "    <tr>\n",
       "      <th></th>\n",
       "      <th colspan=\"4\" halign=\"left\">delivery_time</th>\n",
       "    </tr>\n",
       "    <tr>\n",
       "      <th></th>\n",
       "      <th>mean</th>\n",
       "      <th>sum</th>\n",
       "      <th>count</th>\n",
       "      <th>std</th>\n",
       "    </tr>\n",
       "    <tr>\n",
       "      <th>day_of_the_week</th>\n",
       "      <th></th>\n",
       "      <th></th>\n",
       "      <th></th>\n",
       "      <th></th>\n",
       "    </tr>\n",
       "  </thead>\n",
       "  <tbody>\n",
       "    <tr>\n",
       "      <th>Weekday</th>\n",
       "      <td>28.340037</td>\n",
       "      <td>15502</td>\n",
       "      <td>547</td>\n",
       "      <td>2.891428</td>\n",
       "    </tr>\n",
       "    <tr>\n",
       "      <th>Weekend</th>\n",
       "      <td>22.470022</td>\n",
       "      <td>30357</td>\n",
       "      <td>1351</td>\n",
       "      <td>4.628938</td>\n",
       "    </tr>\n",
       "  </tbody>\n",
       "</table>\n",
       "</div>"
      ],
      "text/plain": [
       "                delivery_time                       \n",
       "                         mean    sum count       std\n",
       "day_of_the_week                                     \n",
       "Weekday             28.340037  15502   547  2.891428\n",
       "Weekend             22.470022  30357  1351  4.628938"
      ]
     },
     "execution_count": 50,
     "metadata": {},
     "output_type": "execute_result"
    }
   ],
   "source": [
    "# Write the code here\n",
    "average_time = df.groupby('day_of_the_week')[['delivery_time']].agg(['mean','sum','count','std'])\n",
    "average_time"
   ]
  },
  {
   "cell_type": "code",
   "execution_count": 51,
   "id": "980d3d15",
   "metadata": {
    "execution": {
     "iopub.execute_input": "2024-01-25T19:39:26.134154Z",
     "iopub.status.busy": "2024-01-25T19:39:26.133653Z",
     "iopub.status.idle": "2024-01-25T19:39:26.147249Z",
     "shell.execute_reply": "2024-01-25T19:39:26.145832Z"
    },
    "id": "mis4_tZafEjI",
    "outputId": "74cf0dd7-00e8-4aa2-cb4a-159ed0c5fb58",
    "papermill": {
     "duration": 0.07342,
     "end_time": "2024-01-25T19:39:26.150904",
     "exception": false,
     "start_time": "2024-01-25T19:39:26.077484",
     "status": "completed"
    },
    "tags": []
   },
   "outputs": [
    {
     "name": "stdout",
     "output_type": "stream",
     "text": [
      "The mean delivery time on weekdays is around 28 minutes\n",
      "The mean delivery time on weekends is around 22 minutes\n"
     ]
    }
   ],
   "source": [
    "print('The mean delivery time on weekdays is around',round(df[df['day_of_the_week'] == 'Weekday']['delivery_time'].mean()),'minutes')\n",
    "print('The mean delivery time on weekends is around',round(df[df['day_of_the_week'] == 'Weekend']['delivery_time'].mean()),'minutes')"
   ]
  },
  {
   "cell_type": "markdown",
   "id": "6d7c2c49",
   "metadata": {
    "id": "8H-ODxbVJY_W",
    "papermill": {
     "duration": 0.054649,
     "end_time": "2024-01-25T19:39:26.259447",
     "exception": false,
     "start_time": "2024-01-25T19:39:26.204798",
     "status": "completed"
    },
    "tags": []
   },
   "source": [
    "#### Observations:The mean delivery time on weekdays is around 28 minutes whereas the mean delivery time on weekends is around 22 minutes.\n",
    "This could be due to the dip of traffic volume in the weekends.\n"
   ]
  },
  {
   "cell_type": "markdown",
   "id": "d63cfdbc",
   "metadata": {
    "id": "17roJywaJY_W",
    "papermill": {
     "duration": 0.05661,
     "end_time": "2024-01-25T19:39:26.371051",
     "exception": false,
     "start_time": "2024-01-25T19:39:26.314441",
     "status": "completed"
    },
    "tags": []
   },
   "source": [
    "### Conclusion and Recommendations"
   ]
  },
  {
   "cell_type": "markdown",
   "id": "2df5fc5a",
   "metadata": {
    "id": "ZdX2Wz4FJY_W",
    "papermill": {
     "duration": 0.052844,
     "end_time": "2024-01-25T19:39:26.478564",
     "exception": false,
     "start_time": "2024-01-25T19:39:26.425720",
     "status": "completed"
    },
    "tags": []
   },
   "source": [
    "### **Question 17:** What are your conclusions from the analysis? What recommendations would you like to share to help improve the business? (You can use cuisine type and feedback ratings to drive your business recommendations.) [6 marks]"
   ]
  },
  {
   "cell_type": "markdown",
   "id": "7403ca1a",
   "metadata": {
    "id": "VTugVsL4Ddz-",
    "papermill": {
     "duration": 0.054827,
     "end_time": "2024-01-25T19:39:26.587503",
     "exception": false,
     "start_time": "2024-01-25T19:39:26.532676",
     "status": "completed"
    },
    "tags": []
   },
   "source": [
    "### Conclusions:\n",
    "It appears that a significant number of customers, approximately 736 out of a total of 1898, have not provided feedback through the rating form. Addressing this is crucial as feedback holds substantial importance for enhancing the restaurant's quality.\n",
    "\n",
    "Certain cuisines such as American, Japanese, Italian, and Chinese are notably preferred by customers over other restaurant types.\n",
    "\n",
    "There's a distinct inclination among customers to order from specific restaurants, with Shake Shack leading, followed by Meatball Shop, Blue Ribbon Sushi, Blue Ribbon Fried Chicken, and then Parm.\n",
    "\n",
    "The costs of different cuisines vary considerably, ranging from a maximum of 35.41 to a minimum of 4.47. Additionally, there's a higher number of orders during weekends compared to weekdays.\n"
   ]
  },
  {
   "cell_type": "markdown",
   "id": "ba286aed",
   "metadata": {
    "id": "PWnsI0i_guWJ",
    "papermill": {
     "duration": 0.052983,
     "end_time": "2024-01-25T19:39:26.694851",
     "exception": false,
     "start_time": "2024-01-25T19:39:26.641868",
     "status": "completed"
    },
    "tags": []
   },
   "source": [
    "### Recommendations:\n",
    "\n",
    "To incentivize customers to complete the rating questionnaire, consider offering coupon discounts or special deals.\n",
    "\n",
    "Consider providing special discounts for the most popular cuisines to differentiate them, given their significantly higher order volume. Lowering the cost for orders from these restaurants could be seen as a privilege.\n",
    "\n",
    "Food Hub could enhance its delivery services by offering special perks such as discounted pricing and prioritized delivery for certain restaurants compared to others.\n",
    "\n",
    "Food Hub should implement varying charges for restaurants based on the differences in their menu prices.\n",
    "\n",
    "It's advisable for Food Hub to increase the number of delivery captains during weekends or extend their working hours or shifts compared to weekdays to meet the higher demand for deliveries.\n"
   ]
  },
  {
   "cell_type": "markdown",
   "id": "ffe3cab0",
   "metadata": {
    "id": "tSoucKKbg9Hc",
    "papermill": {
     "duration": 0.055457,
     "end_time": "2024-01-25T19:39:26.803217",
     "exception": false,
     "start_time": "2024-01-25T19:39:26.747760",
     "status": "completed"
    },
    "tags": []
   },
   "source": [
    "---"
   ]
  }
 ],
 "metadata": {
  "colab": {
   "provenance": []
  },
  "kaggle": {
   "accelerator": "none",
   "dataSources": [
    {
     "datasetId": 4355131,
     "sourceId": 7481406,
     "sourceType": "datasetVersion"
    }
   ],
   "dockerImageVersionId": 30635,
   "isGpuEnabled": false,
   "isInternetEnabled": true,
   "language": "python",
   "sourceType": "notebook"
  },
  "kernelspec": {
   "display_name": "Python 3",
   "language": "python",
   "name": "python3"
  },
  "language_info": {
   "codemirror_mode": {
    "name": "ipython",
    "version": 3
   },
   "file_extension": ".py",
   "mimetype": "text/x-python",
   "name": "python",
   "nbconvert_exporter": "python",
   "pygments_lexer": "ipython3",
   "version": "3.10.12"
  },
  "papermill": {
   "default_parameters": {},
   "duration": 27.10056,
   "end_time": "2024-01-25T19:39:27.882442",
   "environment_variables": {},
   "exception": null,
   "input_path": "__notebook__.ipynb",
   "output_path": "__notebook__.ipynb",
   "parameters": {},
   "start_time": "2024-01-25T19:39:00.781882",
   "version": "2.4.0"
  }
 },
 "nbformat": 4,
 "nbformat_minor": 5
}
